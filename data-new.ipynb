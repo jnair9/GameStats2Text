{
 "cells": [
  {
   "cell_type": "code",
   "execution_count": 4,
   "id": "a7f9d7fa",
   "metadata": {},
   "outputs": [
    {
     "name": "stderr",
     "output_type": "stream",
     "text": [
      "Processing interviews:   0%|          | 0/249 [00:00<?, ?it/s]"
     ]
    },
    {
     "name": "stdout",
     "output_type": "stream",
     "text": [
      "✔️ Finished: NBA ALL-STAR GAME - February 16, 2025\n"
     ]
    },
    {
     "name": "stderr",
     "output_type": "stream",
     "text": [
      "Processing interviews:   0%|          | 1/249 [00:01<04:47,  1.16s/it]"
     ]
    },
    {
     "name": "stdout",
     "output_type": "stream",
     "text": [
      "✔️ Finished: ALL-STAR GAME - February 18, 2024\n"
     ]
    },
    {
     "name": "stderr",
     "output_type": "stream",
     "text": [
      "Processing interviews:   1%|          | 2/249 [00:02<04:59,  1.21s/it]"
     ]
    },
    {
     "name": "stdout",
     "output_type": "stream",
     "text": [
      "✔️ Finished: ALL-STAR GAME - February 18, 2024\n"
     ]
    },
    {
     "name": "stderr",
     "output_type": "stream",
     "text": [
      "Processing interviews:   1%|          | 3/249 [00:03<04:50,  1.18s/it]"
     ]
    },
    {
     "name": "stdout",
     "output_type": "stream",
     "text": [
      "✔️ Finished: NBA IN-SEASON TOURNAMENT - December 9, 2023\n"
     ]
    },
    {
     "name": "stderr",
     "output_type": "stream",
     "text": [
      "Processing interviews:   2%|▏         | 4/249 [00:04<04:49,  1.18s/it]"
     ]
    },
    {
     "name": "stdout",
     "output_type": "stream",
     "text": [
      "✔️ Finished: NBA IN-SEASON TOURNAMENT - December 7, 2023\n"
     ]
    },
    {
     "name": "stderr",
     "output_type": "stream",
     "text": [
      "Processing interviews:   2%|▏         | 5/249 [00:06<04:47,  1.18s/it]"
     ]
    },
    {
     "name": "stdout",
     "output_type": "stream",
     "text": [
      "✔️ Finished: NBA IN-SEASON TOURNAMENT - December 6, 2023\n"
     ]
    },
    {
     "name": "stderr",
     "output_type": "stream",
     "text": [
      "Processing interviews:   2%|▏         | 6/249 [00:07<04:43,  1.17s/it]"
     ]
    },
    {
     "name": "stdout",
     "output_type": "stream",
     "text": [
      "✔️ Finished: NBA WESTERN CONFERENCE FINALS: LAKERS VS. NUGGETS - May 22, 2023\n"
     ]
    },
    {
     "name": "stderr",
     "output_type": "stream",
     "text": [
      "Processing interviews:   3%|▎         | 7/249 [00:08<04:42,  1.17s/it]"
     ]
    },
    {
     "name": "stdout",
     "output_type": "stream",
     "text": [
      "✔️ Finished: NBA WESTERN CONFERENCE FINALS: LAKERS VS. NUGGETS - May 20, 2023\n"
     ]
    },
    {
     "name": "stderr",
     "output_type": "stream",
     "text": [
      "Processing interviews:   3%|▎         | 8/249 [00:09<04:40,  1.16s/it]"
     ]
    },
    {
     "name": "stdout",
     "output_type": "stream",
     "text": [
      "✔️ Finished: NBA WESTERN CONFERENCE FINALS: LAKERS VS. NUGGETS - May 18, 2023\n"
     ]
    },
    {
     "name": "stderr",
     "output_type": "stream",
     "text": [
      "Processing interviews:   4%|▎         | 9/249 [00:10<04:38,  1.16s/it]"
     ]
    },
    {
     "name": "stdout",
     "output_type": "stream",
     "text": [
      "✔️ Finished: NBA WESTERN CONFERENCE FINALS: LAKERS VS. NUGGETS - May 16, 2023\n"
     ]
    },
    {
     "name": "stderr",
     "output_type": "stream",
     "text": [
      "Processing interviews:   4%|▍         | 10/249 [00:11<04:37,  1.16s/it]"
     ]
    },
    {
     "name": "stdout",
     "output_type": "stream",
     "text": [
      "✔️ Finished: NBA WESTERN CONFERENCE SEMIFINALS: LAKERS vs  WARRIORS - May 10, 2023\n"
     ]
    },
    {
     "name": "stderr",
     "output_type": "stream",
     "text": [
      "Processing interviews:   4%|▍         | 11/249 [00:12<04:35,  1.16s/it]"
     ]
    },
    {
     "name": "stdout",
     "output_type": "stream",
     "text": [
      "✔️ Finished: NBA WESTERN CONFERENCE SEMIFINALS: LAKERS vs  WARRIORS - May 4, 2023\n"
     ]
    },
    {
     "name": "stderr",
     "output_type": "stream",
     "text": [
      "Processing interviews:   5%|▍         | 12/249 [00:14<04:34,  1.16s/it]"
     ]
    },
    {
     "name": "stdout",
     "output_type": "stream",
     "text": [
      "✔️ Finished: NBA WESTERN CONFERENCE SEMIFINALS: LAKERS vs  WARRIORS - May 2, 2023\n"
     ]
    },
    {
     "name": "stderr",
     "output_type": "stream",
     "text": [
      "Processing interviews:   5%|▌         | 13/249 [00:15<04:32,  1.16s/it]"
     ]
    },
    {
     "name": "stdout",
     "output_type": "stream",
     "text": [
      "✔️ Finished: NBA ALL-STAR GAME 2023 - February 19, 2023\n"
     ]
    },
    {
     "name": "stderr",
     "output_type": "stream",
     "text": [
      "Processing interviews:   6%|▌         | 14/249 [00:16<04:30,  1.15s/it]"
     ]
    },
    {
     "name": "stdout",
     "output_type": "stream",
     "text": [
      "✔️ Finished: ALL-STAR GAME: TEAM GIANNIS VS. TEAM LEBRON - February 19, 2023\n"
     ]
    },
    {
     "name": "stderr",
     "output_type": "stream",
     "text": [
      "Processing interviews:   6%|▌         | 15/249 [00:17<04:30,  1.15s/it]"
     ]
    },
    {
     "name": "stdout",
     "output_type": "stream",
     "text": [
      "✔️ Finished: ALL-STAR GAME: TEAM GIANNIS VS. TEAM LEBRON - February 19, 2023\n"
     ]
    },
    {
     "name": "stderr",
     "output_type": "stream",
     "text": [
      "Processing interviews:   6%|▋         | 16/249 [00:18<04:30,  1.16s/it]"
     ]
    },
    {
     "name": "stdout",
     "output_type": "stream",
     "text": [
      "✔️ Finished: ALL-STAR GAME: TEAM DURANT VS. TEAM LEBRON - February 20, 2022\n"
     ]
    },
    {
     "name": "stderr",
     "output_type": "stream",
     "text": [
      "Processing interviews:   7%|▋         | 17/249 [00:19<04:28,  1.16s/it]"
     ]
    },
    {
     "name": "stdout",
     "output_type": "stream",
     "text": [
      "✔️ Finished: NBA ALL-STAR MEDIA DAY - February 19, 2022\n"
     ]
    },
    {
     "name": "stderr",
     "output_type": "stream",
     "text": [
      "Processing interviews:   7%|▋         | 18/249 [00:21<04:27,  1.16s/it]"
     ]
    },
    {
     "name": "stdout",
     "output_type": "stream",
     "text": [
      "✔️ Finished: NBA ALL STAR - March 7, 2021\n"
     ]
    },
    {
     "name": "stderr",
     "output_type": "stream",
     "text": [
      "Processing interviews:   8%|▊         | 19/249 [00:22<04:25,  1.15s/it]"
     ]
    },
    {
     "name": "stdout",
     "output_type": "stream",
     "text": [
      "✔️ Finished: NBA FINALS: LAKERS VS. HEAT - October 11, 2020\n"
     ]
    },
    {
     "name": "stderr",
     "output_type": "stream",
     "text": [
      "Processing interviews:   8%|▊         | 20/249 [00:23<04:25,  1.16s/it]"
     ]
    },
    {
     "name": "stdout",
     "output_type": "stream",
     "text": [
      "✔️ Finished: NBA FINALS: LAKERS VS. HEAT - October 9, 2020\n"
     ]
    },
    {
     "name": "stderr",
     "output_type": "stream",
     "text": [
      "Processing interviews:   8%|▊         | 21/249 [00:24<04:25,  1.17s/it]"
     ]
    },
    {
     "name": "stdout",
     "output_type": "stream",
     "text": [
      "✔️ Finished: NBA FINALS: LAKERS VS. HEAT - October 8, 2020\n"
     ]
    },
    {
     "name": "stderr",
     "output_type": "stream",
     "text": [
      "Processing interviews:   9%|▉         | 22/249 [00:25<04:24,  1.16s/it]"
     ]
    },
    {
     "name": "stdout",
     "output_type": "stream",
     "text": [
      "✔️ Finished: NBA FINALS: LAKERS VS. HEAT - October 6, 2020\n"
     ]
    },
    {
     "name": "stderr",
     "output_type": "stream",
     "text": [
      "Processing interviews:   9%|▉         | 23/249 [00:26<04:22,  1.16s/it]"
     ]
    },
    {
     "name": "stdout",
     "output_type": "stream",
     "text": [
      "✔️ Finished: NBA FINALS: LAKERS VS. HEAT - October 5, 2020\n"
     ]
    },
    {
     "name": "stderr",
     "output_type": "stream",
     "text": [
      "Processing interviews:  10%|▉         | 24/249 [00:28<04:20,  1.16s/it]"
     ]
    },
    {
     "name": "stdout",
     "output_type": "stream",
     "text": [
      "✔️ Finished: NBA FINALS: LAKERS VS. HEAT - October 4, 2020\n"
     ]
    },
    {
     "name": "stderr",
     "output_type": "stream",
     "text": [
      "Processing interviews:  10%|█         | 25/249 [00:29<04:17,  1.15s/it]"
     ]
    },
    {
     "name": "stdout",
     "output_type": "stream",
     "text": [
      "✔️ Finished: NBA FINALS: LAKERS VS. HEAT - October 2, 2020\n"
     ]
    },
    {
     "name": "stderr",
     "output_type": "stream",
     "text": [
      "Processing interviews:  10%|█         | 26/249 [00:30<04:16,  1.15s/it]"
     ]
    },
    {
     "name": "stdout",
     "output_type": "stream",
     "text": [
      "✔️ Finished: NBA FINALS: LAKERS VS. HEAT - October 1, 2020\n"
     ]
    },
    {
     "name": "stderr",
     "output_type": "stream",
     "text": [
      "Processing interviews:  11%|█         | 27/249 [00:31<04:16,  1.15s/it]"
     ]
    },
    {
     "name": "stdout",
     "output_type": "stream",
     "text": [
      "✔️ Finished: NBA FINALS: LAKERS VS. HEAT - September 30, 2020\n"
     ]
    },
    {
     "name": "stderr",
     "output_type": "stream",
     "text": [
      "Processing interviews:  11%|█         | 28/249 [00:32<04:14,  1.15s/it]"
     ]
    },
    {
     "name": "stdout",
     "output_type": "stream",
     "text": [
      "✔️ Finished: NBA FINALS: LAKERS VS. HEAT - September 29, 2020\n"
     ]
    },
    {
     "name": "stderr",
     "output_type": "stream",
     "text": [
      "Processing interviews:  12%|█▏        | 29/249 [00:33<04:15,  1.16s/it]"
     ]
    },
    {
     "name": "stdout",
     "output_type": "stream",
     "text": [
      "✔️ Finished: NBA WESTERN CONFERENCE FINALS: LAKERS VS. NUGGETS - September 26, 2020\n"
     ]
    },
    {
     "name": "stderr",
     "output_type": "stream",
     "text": [
      "Processing interviews:  12%|█▏        | 30/249 [00:34<04:14,  1.16s/it]"
     ]
    },
    {
     "name": "stdout",
     "output_type": "stream",
     "text": [
      "✔️ Finished: NBA WESTERN CONFERENCE FINALS: LAKERS VS. NUGGETS - September 24, 2020\n"
     ]
    },
    {
     "name": "stderr",
     "output_type": "stream",
     "text": [
      "Processing interviews:  12%|█▏        | 31/249 [00:36<04:12,  1.16s/it]"
     ]
    },
    {
     "name": "stdout",
     "output_type": "stream",
     "text": [
      "✔️ Finished: NBA WESTERN CONFERENCE FINALS: LAKERS VS. NUGGETS - September 22, 2020\n"
     ]
    },
    {
     "name": "stderr",
     "output_type": "stream",
     "text": [
      "Processing interviews:  13%|█▎        | 32/249 [00:37<04:10,  1.15s/it]"
     ]
    },
    {
     "name": "stdout",
     "output_type": "stream",
     "text": [
      "✔️ Finished: NBA WESTERN CONFERENCE FINALS: LAKERS VS. NUGGETS - September 20, 2020\n"
     ]
    },
    {
     "name": "stderr",
     "output_type": "stream",
     "text": [
      "Processing interviews:  13%|█▎        | 33/249 [00:38<04:08,  1.15s/it]"
     ]
    },
    {
     "name": "stdout",
     "output_type": "stream",
     "text": [
      "✔️ Finished: NBA WESTERN CONFERENCE FINALS: LAKERS VS. NUGGETS - September 18, 2020\n"
     ]
    },
    {
     "name": "stderr",
     "output_type": "stream",
     "text": [
      "Processing interviews:  14%|█▎        | 34/249 [00:39<04:07,  1.15s/it]"
     ]
    },
    {
     "name": "stdout",
     "output_type": "stream",
     "text": [
      "✔️ Finished: NBA WESTERN CONFERENCE FINALS: LAKERS VS. NUGGETS - September 17, 2020\n"
     ]
    },
    {
     "name": "stderr",
     "output_type": "stream",
     "text": [
      "Processing interviews:  14%|█▍        | 35/249 [00:40<04:12,  1.18s/it]"
     ]
    },
    {
     "name": "stdout",
     "output_type": "stream",
     "text": [
      "✔️ Finished: NBA ALL-STAR 2020 - February 16, 2020\n"
     ]
    },
    {
     "name": "stderr",
     "output_type": "stream",
     "text": [
      "Processing interviews:  14%|█▍        | 36/249 [00:41<04:09,  1.17s/it]"
     ]
    },
    {
     "name": "stdout",
     "output_type": "stream",
     "text": [
      "✔️ Finished: NBA ALL-STAR 2020 - February 15, 2020\n"
     ]
    },
    {
     "name": "stderr",
     "output_type": "stream",
     "text": [
      "Processing interviews:  15%|█▍        | 37/249 [00:43<04:07,  1.17s/it]"
     ]
    },
    {
     "name": "stdout",
     "output_type": "stream",
     "text": [
      "✔️ Finished: NBA ALL-STAR WEEKEND 2019 - February 17, 2019\n"
     ]
    },
    {
     "name": "stderr",
     "output_type": "stream",
     "text": [
      "Processing interviews:  15%|█▌        | 38/249 [00:44<04:05,  1.17s/it]"
     ]
    },
    {
     "name": "stdout",
     "output_type": "stream",
     "text": [
      "✔️ Finished: NBA ALL-STAR 2019 - February 16, 2019\n"
     ]
    },
    {
     "name": "stderr",
     "output_type": "stream",
     "text": [
      "Processing interviews:  16%|█▌        | 39/249 [00:45<04:04,  1.16s/it]"
     ]
    },
    {
     "name": "stdout",
     "output_type": "stream",
     "text": [
      "✔️ Finished: NBA FINALS: CAVALIERS vs WARRIORS - June 8, 2018\n"
     ]
    },
    {
     "name": "stderr",
     "output_type": "stream",
     "text": [
      "Processing interviews:  16%|█▌        | 40/249 [00:46<04:02,  1.16s/it]"
     ]
    },
    {
     "name": "stdout",
     "output_type": "stream",
     "text": [
      "✔️ Finished: NBA FINALS: CAVALIERS vs WARRIORS - June 7, 2018\n"
     ]
    },
    {
     "name": "stderr",
     "output_type": "stream",
     "text": [
      "Processing interviews:  16%|█▋        | 41/249 [00:47<04:00,  1.16s/it]"
     ]
    },
    {
     "name": "stdout",
     "output_type": "stream",
     "text": [
      "✔️ Finished: NBA FINALS: CAVALIERS vs WARRIORS - June 6, 2018\n"
     ]
    },
    {
     "name": "stderr",
     "output_type": "stream",
     "text": [
      "Processing interviews:  17%|█▋        | 42/249 [00:48<03:59,  1.16s/it]"
     ]
    },
    {
     "name": "stdout",
     "output_type": "stream",
     "text": [
      "✔️ Finished: NBA FINALS: CAVALIERS vs WARRIORS - June 5, 2018\n"
     ]
    },
    {
     "name": "stderr",
     "output_type": "stream",
     "text": [
      "Processing interviews:  17%|█▋        | 43/249 [00:50<03:58,  1.16s/it]"
     ]
    },
    {
     "name": "stdout",
     "output_type": "stream",
     "text": [
      "✔️ Finished: NBA FINALS: CAVALIERS vs WARRIORS - June 3, 2018\n"
     ]
    },
    {
     "name": "stderr",
     "output_type": "stream",
     "text": [
      "Processing interviews:  18%|█▊        | 44/249 [00:51<03:56,  1.16s/it]"
     ]
    },
    {
     "name": "stdout",
     "output_type": "stream",
     "text": [
      "✔️ Finished: NBA FINALS: CAVALIERS vs WARRIORS - June 2, 2018\n"
     ]
    },
    {
     "name": "stderr",
     "output_type": "stream",
     "text": [
      "Processing interviews:  18%|█▊        | 45/249 [00:52<03:55,  1.15s/it]"
     ]
    },
    {
     "name": "stdout",
     "output_type": "stream",
     "text": [
      "✔️ Finished: NBA FINALS: CAVALIERS vs WARRIORS - May 31, 2018\n"
     ]
    },
    {
     "name": "stderr",
     "output_type": "stream",
     "text": [
      "Processing interviews:  18%|█▊        | 46/249 [00:53<03:53,  1.15s/it]"
     ]
    },
    {
     "name": "stdout",
     "output_type": "stream",
     "text": [
      "✔️ Finished: NBA FINALS: CAVALIERS vs WARRIORS - May 30, 2018\n"
     ]
    },
    {
     "name": "stderr",
     "output_type": "stream",
     "text": [
      "Processing interviews:  19%|█▉        | 47/249 [00:54<03:53,  1.16s/it]"
     ]
    },
    {
     "name": "stdout",
     "output_type": "stream",
     "text": [
      "✔️ Finished: NBA EASTERN CONFERENCE FINALS: CAVALIERS vs CELTICS - May 27, 2018\n"
     ]
    },
    {
     "name": "stderr",
     "output_type": "stream",
     "text": [
      "Processing interviews:  19%|█▉        | 48/249 [00:55<03:52,  1.16s/it]"
     ]
    },
    {
     "name": "stdout",
     "output_type": "stream",
     "text": [
      "✔️ Finished: NBA EASTERN CONFERENCE FINALS: CAVALIERS vs CELTICS - May 25, 2018\n"
     ]
    },
    {
     "name": "stderr",
     "output_type": "stream",
     "text": [
      "Processing interviews:  20%|█▉        | 49/249 [00:57<03:51,  1.16s/it]"
     ]
    },
    {
     "name": "stdout",
     "output_type": "stream",
     "text": [
      "✔️ Finished: NBA EASTERN CONFERENCE FINALS: CAVALIERS vs CELTICS - May 23, 2018\n"
     ]
    },
    {
     "name": "stderr",
     "output_type": "stream",
     "text": [
      "Processing interviews:  20%|██        | 50/249 [00:58<03:50,  1.16s/it]"
     ]
    },
    {
     "name": "stdout",
     "output_type": "stream",
     "text": [
      "✔️ Finished: NBA EASTERN CONFERENCE FINALS: CAVALIERS vs CELTICS - May 21, 2018\n"
     ]
    },
    {
     "name": "stderr",
     "output_type": "stream",
     "text": [
      "Processing interviews:  20%|██        | 51/249 [00:59<03:49,  1.16s/it]"
     ]
    },
    {
     "name": "stdout",
     "output_type": "stream",
     "text": [
      "✔️ Finished: NBA EASTERN CONFERENCE FINALS: CAVALIERS vs CELTICS - May 19, 2018\n"
     ]
    },
    {
     "name": "stderr",
     "output_type": "stream",
     "text": [
      "Processing interviews:  21%|██        | 52/249 [01:00<03:48,  1.16s/it]"
     ]
    },
    {
     "name": "stdout",
     "output_type": "stream",
     "text": [
      "✔️ Finished: NBA EASTERN CONFERENCE FINALS: CAVALIERS vs CELTICS - May 15, 2018\n"
     ]
    },
    {
     "name": "stderr",
     "output_type": "stream",
     "text": [
      "Processing interviews:  21%|██▏       | 53/249 [01:01<03:46,  1.15s/it]"
     ]
    },
    {
     "name": "stdout",
     "output_type": "stream",
     "text": [
      "✔️ Finished: NBA EASTERN CONFERENCE FINALS: CAVALIERS vs CELTICS - May 13, 2018\n"
     ]
    },
    {
     "name": "stderr",
     "output_type": "stream",
     "text": [
      "Processing interviews:  22%|██▏       | 54/249 [01:02<03:52,  1.19s/it]"
     ]
    },
    {
     "name": "stdout",
     "output_type": "stream",
     "text": [
      "✔️ Finished: NBA ALL-STAR 2018 - February 18, 2018\n"
     ]
    },
    {
     "name": "stderr",
     "output_type": "stream",
     "text": [
      "Processing interviews:  22%|██▏       | 55/249 [01:04<03:49,  1.18s/it]"
     ]
    },
    {
     "name": "stdout",
     "output_type": "stream",
     "text": [
      "✔️ Finished: NBA ALL-STAR 2018 - February 17, 2018\n"
     ]
    },
    {
     "name": "stderr",
     "output_type": "stream",
     "text": [
      "Processing interviews:  22%|██▏       | 56/249 [01:05<03:46,  1.17s/it]"
     ]
    },
    {
     "name": "stdout",
     "output_type": "stream",
     "text": [
      "✔️ Finished: NBA FINALS: CLEVELAND VS GOLDEN STATE - June 12, 2017\n"
     ]
    },
    {
     "name": "stderr",
     "output_type": "stream",
     "text": [
      "Processing interviews:  23%|██▎       | 57/249 [01:06<03:44,  1.17s/it]"
     ]
    },
    {
     "name": "stdout",
     "output_type": "stream",
     "text": [
      "✔️ Finished: NBA FINALS: CLEVELAND VS GOLDEN STATE - June 11, 2017\n"
     ]
    },
    {
     "name": "stderr",
     "output_type": "stream",
     "text": [
      "Processing interviews:  23%|██▎       | 58/249 [01:07<03:43,  1.17s/it]"
     ]
    },
    {
     "name": "stdout",
     "output_type": "stream",
     "text": [
      "✔️ Finished: NBA FINALS: CLEVELAND VS GOLDEN STATE - June 9, 2017\n"
     ]
    },
    {
     "name": "stderr",
     "output_type": "stream",
     "text": [
      "Processing interviews:  24%|██▎       | 59/249 [01:08<03:42,  1.17s/it]"
     ]
    },
    {
     "name": "stdout",
     "output_type": "stream",
     "text": [
      "✔️ Finished: NBA FINALS: CLEVELAND VS GOLDEN STATE - June 8, 2017\n"
     ]
    },
    {
     "name": "stderr",
     "output_type": "stream",
     "text": [
      "Processing interviews:  24%|██▍       | 60/249 [01:09<03:40,  1.16s/it]"
     ]
    },
    {
     "name": "stdout",
     "output_type": "stream",
     "text": [
      "✔️ Finished: NBA FINALS: CLEVELAND VS GOLDEN STATE - June 7, 2017\n"
     ]
    },
    {
     "name": "stderr",
     "output_type": "stream",
     "text": [
      "Processing interviews:  24%|██▍       | 61/249 [01:11<03:38,  1.16s/it]"
     ]
    },
    {
     "name": "stdout",
     "output_type": "stream",
     "text": [
      "✔️ Finished: NBA FINALS: CLEVELAND VS GOLDEN STATE - June 6, 2017\n"
     ]
    },
    {
     "name": "stderr",
     "output_type": "stream",
     "text": [
      "Processing interviews:  25%|██▍       | 62/249 [01:12<03:37,  1.16s/it]"
     ]
    },
    {
     "name": "stdout",
     "output_type": "stream",
     "text": [
      "✔️ Finished: NBA FINALS: CLEVELAND VS GOLDEN STATE - June 3, 2017\n"
     ]
    },
    {
     "name": "stderr",
     "output_type": "stream",
     "text": [
      "Processing interviews:  25%|██▌       | 63/249 [01:13<03:41,  1.19s/it]"
     ]
    },
    {
     "name": "stdout",
     "output_type": "stream",
     "text": [
      "✔️ Finished: NBA FINALS: CLEVELAND VS GOLDEN STATE - June 1, 2017\n"
     ]
    },
    {
     "name": "stderr",
     "output_type": "stream",
     "text": [
      "Processing interviews:  26%|██▌       | 64/249 [01:14<03:38,  1.18s/it]"
     ]
    },
    {
     "name": "stdout",
     "output_type": "stream",
     "text": [
      "✔️ Finished: NBA FINALS: CLEVELAND VS GOLDEN STATE - May 31, 2017\n"
     ]
    },
    {
     "name": "stderr",
     "output_type": "stream",
     "text": [
      "Processing interviews:  26%|██▌       | 65/249 [01:15<03:38,  1.19s/it]"
     ]
    },
    {
     "name": "stdout",
     "output_type": "stream",
     "text": [
      "✔️ Finished: NBA EASTERN CONFERENCE FINALS: CELTICS VS CAVALIERS - May 25, 2017\n"
     ]
    },
    {
     "name": "stderr",
     "output_type": "stream",
     "text": [
      "Processing interviews:  27%|██▋       | 66/249 [01:16<03:35,  1.18s/it]"
     ]
    },
    {
     "name": "stdout",
     "output_type": "stream",
     "text": [
      "✔️ Finished: NBA EASTERN CONFERENCE FINALS: CELTICS VS CAVALIERS - May 23, 2017\n"
     ]
    },
    {
     "name": "stderr",
     "output_type": "stream",
     "text": [
      "Processing interviews:  27%|██▋       | 67/249 [01:18<03:32,  1.17s/it]"
     ]
    },
    {
     "name": "stdout",
     "output_type": "stream",
     "text": [
      "✔️ Finished: NBA EASTERN CONFERENCE FINALS: CELTICS VS CAVALIERS - May 21, 2017\n"
     ]
    },
    {
     "name": "stderr",
     "output_type": "stream",
     "text": [
      "Processing interviews:  27%|██▋       | 68/249 [01:19<03:31,  1.17s/it]"
     ]
    },
    {
     "name": "stdout",
     "output_type": "stream",
     "text": [
      "✔️ Finished: NBA EASTERN CONFERENCE FINALS: CELTICS VS CAVALIERS - May 19, 2017\n"
     ]
    },
    {
     "name": "stderr",
     "output_type": "stream",
     "text": [
      "Processing interviews:  28%|██▊       | 69/249 [01:20<03:29,  1.17s/it]"
     ]
    },
    {
     "name": "stdout",
     "output_type": "stream",
     "text": [
      "✔️ Finished: NBA EASTERN CONFERENCE FINALS: CELTICS VS CAVALIERS - May 18, 2017\n"
     ]
    },
    {
     "name": "stderr",
     "output_type": "stream",
     "text": [
      "Processing interviews:  28%|██▊       | 70/249 [01:21<03:27,  1.16s/it]"
     ]
    },
    {
     "name": "stdout",
     "output_type": "stream",
     "text": [
      "✔️ Finished: NBA EASTERN CONFERENCE FINALS: CELTICS VS CAVALIERS - May 17, 2017\n"
     ]
    },
    {
     "name": "stderr",
     "output_type": "stream",
     "text": [
      "Processing interviews:  29%|██▊       | 71/249 [01:22<03:27,  1.16s/it]"
     ]
    },
    {
     "name": "stdout",
     "output_type": "stream",
     "text": [
      "✔️ Finished: NBA EASTERN CONFERENCE FINALS: CELTICS VS CAVALIERS - May 16, 2017\n"
     ]
    },
    {
     "name": "stderr",
     "output_type": "stream",
     "text": [
      "Processing interviews:  29%|██▉       | 72/249 [01:23<03:25,  1.16s/it]"
     ]
    },
    {
     "name": "stdout",
     "output_type": "stream",
     "text": [
      "✔️ Finished: NBA ALL-STAR WEEKEND - February 18, 2017\n"
     ]
    },
    {
     "name": "stderr",
     "output_type": "stream",
     "text": [
      "Processing interviews:  29%|██▉       | 73/249 [01:25<03:23,  1.16s/it]"
     ]
    },
    {
     "name": "stdout",
     "output_type": "stream",
     "text": [
      "✔️ Finished: NBA FINALS: CAVALIERS v WARRIORS - June 19, 2016\n"
     ]
    },
    {
     "name": "stderr",
     "output_type": "stream",
     "text": [
      "Processing interviews:  30%|██▉       | 74/249 [01:26<03:22,  1.16s/it]"
     ]
    },
    {
     "name": "stdout",
     "output_type": "stream",
     "text": [
      "✔️ Finished: NBA FINALS: CAVALIERS v WARRIORS - June 18, 2016\n"
     ]
    },
    {
     "name": "stderr",
     "output_type": "stream",
     "text": [
      "Processing interviews:  30%|███       | 75/249 [01:27<03:20,  1.15s/it]"
     ]
    },
    {
     "name": "stdout",
     "output_type": "stream",
     "text": [
      "✔️ Finished: NBA FINALS: CAVALIERS v WARRIORS - June 16, 2016\n"
     ]
    },
    {
     "name": "stderr",
     "output_type": "stream",
     "text": [
      "Processing interviews:  31%|███       | 76/249 [01:28<03:19,  1.15s/it]"
     ]
    },
    {
     "name": "stdout",
     "output_type": "stream",
     "text": [
      "✔️ Finished: NBA FINALS: CAVALIERS v WARRIORS - June 15, 2016\n"
     ]
    },
    {
     "name": "stderr",
     "output_type": "stream",
     "text": [
      "Processing interviews:  31%|███       | 77/249 [01:29<03:17,  1.15s/it]"
     ]
    },
    {
     "name": "stdout",
     "output_type": "stream",
     "text": [
      "✔️ Finished: NBA FINALS: CAVALIERS v WARRIORS - June 13, 2016\n"
     ]
    },
    {
     "name": "stderr",
     "output_type": "stream",
     "text": [
      "Processing interviews:  31%|███▏      | 78/249 [01:30<03:16,  1.15s/it]"
     ]
    },
    {
     "name": "stdout",
     "output_type": "stream",
     "text": [
      "✔️ Finished: NBA FINALS: CAVALIERS v WARRIORS - June 12, 2016\n"
     ]
    },
    {
     "name": "stderr",
     "output_type": "stream",
     "text": [
      "Processing interviews:  32%|███▏      | 79/249 [01:31<03:15,  1.15s/it]"
     ]
    },
    {
     "name": "stdout",
     "output_type": "stream",
     "text": [
      "✔️ Finished: NBA FINALS: CAVALIERS v WARRIORS - June 10, 2016\n"
     ]
    },
    {
     "name": "stderr",
     "output_type": "stream",
     "text": [
      "Processing interviews:  32%|███▏      | 80/249 [01:33<03:15,  1.16s/it]"
     ]
    },
    {
     "name": "stdout",
     "output_type": "stream",
     "text": [
      "✔️ Finished: NBA FINALS: CAVALIERS v WARRIORS - June 9, 2016\n"
     ]
    },
    {
     "name": "stderr",
     "output_type": "stream",
     "text": [
      "Processing interviews:  33%|███▎      | 81/249 [01:34<03:13,  1.15s/it]"
     ]
    },
    {
     "name": "stdout",
     "output_type": "stream",
     "text": [
      "✔️ Finished: NBA FINALS: CAVALIERS v WARRIORS - June 8, 2016\n"
     ]
    },
    {
     "name": "stderr",
     "output_type": "stream",
     "text": [
      "Processing interviews:  33%|███▎      | 82/249 [01:35<03:12,  1.15s/it]"
     ]
    },
    {
     "name": "stdout",
     "output_type": "stream",
     "text": [
      "✔️ Finished: NBA FINALS: CAVALIERS v WARRIORS - June 7, 2016\n"
     ]
    },
    {
     "name": "stderr",
     "output_type": "stream",
     "text": [
      "Processing interviews:  33%|███▎      | 83/249 [01:36<03:11,  1.16s/it]"
     ]
    },
    {
     "name": "stdout",
     "output_type": "stream",
     "text": [
      "✔️ Finished: NBA FINALS: CAVALIERS v WARRIORS - June 5, 2016\n"
     ]
    },
    {
     "name": "stderr",
     "output_type": "stream",
     "text": [
      "Processing interviews:  34%|███▎      | 84/249 [01:37<03:10,  1.15s/it]"
     ]
    },
    {
     "name": "stdout",
     "output_type": "stream",
     "text": [
      "✔️ Finished: NBA FINALS: CAVALIERS v WARRIORS - June 4, 2016\n"
     ]
    },
    {
     "name": "stderr",
     "output_type": "stream",
     "text": [
      "Processing interviews:  34%|███▍      | 85/249 [01:38<03:08,  1.15s/it]"
     ]
    },
    {
     "name": "stdout",
     "output_type": "stream",
     "text": [
      "✔️ Finished: NBA FINALS: CAVALIERS v WARRIORS - June 3, 2016\n"
     ]
    },
    {
     "name": "stderr",
     "output_type": "stream",
     "text": [
      "Processing interviews:  35%|███▍      | 86/249 [01:40<03:07,  1.15s/it]"
     ]
    },
    {
     "name": "stdout",
     "output_type": "stream",
     "text": [
      "✔️ Finished: NBA FINALS: CAVALIERS v WARRIORS - June 2, 2016\n"
     ]
    },
    {
     "name": "stderr",
     "output_type": "stream",
     "text": [
      "Processing interviews:  35%|███▍      | 87/249 [01:41<03:05,  1.15s/it]"
     ]
    },
    {
     "name": "stdout",
     "output_type": "stream",
     "text": [
      "✔️ Finished: NBA FINALS: CAVALIERS v WARRIORS - June 1, 2016\n"
     ]
    },
    {
     "name": "stderr",
     "output_type": "stream",
     "text": [
      "Processing interviews:  35%|███▌      | 88/249 [01:42<03:05,  1.15s/it]"
     ]
    },
    {
     "name": "stdout",
     "output_type": "stream",
     "text": [
      "✔️ Finished: NBA EASTERN CONFERENCE FINALS: RAPTORS v CAVALIERS - May 27, 2016\n"
     ]
    },
    {
     "name": "stderr",
     "output_type": "stream",
     "text": [
      "Processing interviews:  36%|███▌      | 89/249 [01:43<03:05,  1.16s/it]"
     ]
    },
    {
     "name": "stdout",
     "output_type": "stream",
     "text": [
      "✔️ Finished: NBA EASTERN CONFERENCE FINALS: RAPTORS v CAVALIERS - May 25, 2016\n"
     ]
    },
    {
     "name": "stderr",
     "output_type": "stream",
     "text": [
      "Processing interviews:  36%|███▌      | 90/249 [01:44<03:04,  1.16s/it]"
     ]
    },
    {
     "name": "stdout",
     "output_type": "stream",
     "text": [
      "✔️ Finished: NBA EASTERN CONFERENCE FINALS: RAPTORS v CAVALIERS - May 23, 2016\n"
     ]
    },
    {
     "name": "stderr",
     "output_type": "stream",
     "text": [
      "Processing interviews:  37%|███▋      | 91/249 [01:45<03:03,  1.16s/it]"
     ]
    },
    {
     "name": "stdout",
     "output_type": "stream",
     "text": [
      "✔️ Finished: NBA EASTERN CONFERENCE FINALS: RAPTORS v CAVALIERS - May 22, 2016\n"
     ]
    },
    {
     "name": "stderr",
     "output_type": "stream",
     "text": [
      "Processing interviews:  37%|███▋      | 92/249 [01:47<03:01,  1.15s/it]"
     ]
    },
    {
     "name": "stdout",
     "output_type": "stream",
     "text": [
      "✔️ Finished: NBA EASTERN CONFERENCE FINALS: RAPTORS v CAVALIERS - May 21, 2016\n"
     ]
    },
    {
     "name": "stderr",
     "output_type": "stream",
     "text": [
      "Processing interviews:  37%|███▋      | 93/249 [01:48<03:00,  1.16s/it]"
     ]
    },
    {
     "name": "stdout",
     "output_type": "stream",
     "text": [
      "✔️ Finished: NBA EASTERN CONFERENCE FINALS: RAPTORS v CAVALIERS - May 19, 2016\n"
     ]
    },
    {
     "name": "stderr",
     "output_type": "stream",
     "text": [
      "Processing interviews:  38%|███▊      | 94/249 [01:49<02:59,  1.16s/it]"
     ]
    },
    {
     "name": "stdout",
     "output_type": "stream",
     "text": [
      "✔️ Finished: NBA EASTERN CONFERENCE FINALS: RAPTORS v CAVALIERS - May 18, 2016\n"
     ]
    },
    {
     "name": "stderr",
     "output_type": "stream",
     "text": [
      "Processing interviews:  38%|███▊      | 95/249 [01:50<02:57,  1.15s/it]"
     ]
    },
    {
     "name": "stdout",
     "output_type": "stream",
     "text": [
      "✔️ Finished: NBA EASTERN CONFERENCE FINALS: RAPTORS v CAVALIERS - May 17, 2016\n"
     ]
    },
    {
     "name": "stderr",
     "output_type": "stream",
     "text": [
      "Processing interviews:  39%|███▊      | 96/249 [01:51<02:56,  1.15s/it]"
     ]
    },
    {
     "name": "stdout",
     "output_type": "stream",
     "text": [
      "✔️ Finished: NBA ALL-STAR WEEKEND - February 14, 2016\n"
     ]
    },
    {
     "name": "stderr",
     "output_type": "stream",
     "text": [
      "Processing interviews:  39%|███▉      | 97/249 [01:52<02:59,  1.18s/it]"
     ]
    },
    {
     "name": "stdout",
     "output_type": "stream",
     "text": [
      "✔️ Finished: NBA ALL-STAR WEEKEND - February 13, 2016\n"
     ]
    },
    {
     "name": "stderr",
     "output_type": "stream",
     "text": [
      "Processing interviews:  39%|███▉      | 98/249 [01:54<02:59,  1.19s/it]"
     ]
    },
    {
     "name": "stdout",
     "output_type": "stream",
     "text": [
      "✔️ Finished: NBA ALL-STAR WEEKEND - February 12, 2016\n"
     ]
    },
    {
     "name": "stderr",
     "output_type": "stream",
     "text": [
      "Processing interviews:  40%|███▉      | 99/249 [01:55<02:55,  1.17s/it]"
     ]
    },
    {
     "name": "stdout",
     "output_type": "stream",
     "text": [
      "✔️ Finished: NBA FINALS: CAVALIERS v WARRIORS - June 16, 2015\n"
     ]
    },
    {
     "name": "stderr",
     "output_type": "stream",
     "text": [
      "Processing interviews:  40%|████      | 100/249 [01:56<02:53,  1.17s/it]"
     ]
    },
    {
     "name": "stdout",
     "output_type": "stream",
     "text": [
      "✔️ Finished: NBA FINALS: CAVALIERS v WARRIORS - June 14, 2015\n"
     ]
    },
    {
     "name": "stderr",
     "output_type": "stream",
     "text": [
      "Processing interviews:  41%|████      | 101/249 [01:57<02:53,  1.18s/it]"
     ]
    },
    {
     "name": "stdout",
     "output_type": "stream",
     "text": [
      "✔️ Finished: NBA FINALS: CAVALIERS v WARRIORS - June 13, 2015\n"
     ]
    },
    {
     "name": "stderr",
     "output_type": "stream",
     "text": [
      "Processing interviews:  41%|████      | 102/249 [01:58<02:51,  1.17s/it]"
     ]
    },
    {
     "name": "stdout",
     "output_type": "stream",
     "text": [
      "✔️ Finished: NBA FINALS: CAVALIERS v WARRIORS - June 11, 2015\n"
     ]
    },
    {
     "name": "stderr",
     "output_type": "stream",
     "text": [
      "Processing interviews:  41%|████▏     | 103/249 [01:59<02:50,  1.17s/it]"
     ]
    },
    {
     "name": "stdout",
     "output_type": "stream",
     "text": [
      "✔️ Finished: NBA FINALS: CAVALIERS v WARRIORS - June 10, 2015\n"
     ]
    },
    {
     "name": "stderr",
     "output_type": "stream",
     "text": [
      "Processing interviews:  42%|████▏     | 104/249 [02:01<02:48,  1.16s/it]"
     ]
    },
    {
     "name": "stdout",
     "output_type": "stream",
     "text": [
      "✔️ Finished: NBA FINALS: CAVALIERS v WARRIORS - June 9, 2015\n"
     ]
    },
    {
     "name": "stderr",
     "output_type": "stream",
     "text": [
      "Processing interviews:  42%|████▏     | 105/249 [02:02<02:47,  1.16s/it]"
     ]
    },
    {
     "name": "stdout",
     "output_type": "stream",
     "text": [
      "✔️ Finished: NBA FINALS: CAVALIERS v WARRIORS - June 7, 2015\n"
     ]
    },
    {
     "name": "stderr",
     "output_type": "stream",
     "text": [
      "Processing interviews:  43%|████▎     | 106/249 [02:03<02:46,  1.16s/it]"
     ]
    },
    {
     "name": "stdout",
     "output_type": "stream",
     "text": [
      "✔️ Finished: NBA FINALS: CAVALIERS v WARRIORS - June 6, 2015\n"
     ]
    },
    {
     "name": "stderr",
     "output_type": "stream",
     "text": [
      "Processing interviews:  43%|████▎     | 107/249 [02:04<02:45,  1.16s/it]"
     ]
    },
    {
     "name": "stdout",
     "output_type": "stream",
     "text": [
      "✔️ Finished: NBA FINALS: CAVALIERS v WARRIORS - June 5, 2015\n"
     ]
    },
    {
     "name": "stderr",
     "output_type": "stream",
     "text": [
      "Processing interviews:  43%|████▎     | 108/249 [02:05<02:43,  1.16s/it]"
     ]
    },
    {
     "name": "stdout",
     "output_type": "stream",
     "text": [
      "✔️ Finished: NBA FINALS: CAVALIERS v WARRIORS - June 4, 2015\n"
     ]
    },
    {
     "name": "stderr",
     "output_type": "stream",
     "text": [
      "Processing interviews:  44%|████▍     | 109/249 [02:06<02:42,  1.16s/it]"
     ]
    },
    {
     "name": "stdout",
     "output_type": "stream",
     "text": [
      "✔️ Finished: NBA FINALS: CAVALIERS v WARRIORS - June 3, 2015\n"
     ]
    },
    {
     "name": "stderr",
     "output_type": "stream",
     "text": [
      "Processing interviews:  44%|████▍     | 110/249 [02:08<02:43,  1.17s/it]"
     ]
    },
    {
     "name": "stdout",
     "output_type": "stream",
     "text": [
      "✔️ Finished: NBA FINALS PREVIEW - June 1, 2015\n"
     ]
    },
    {
     "name": "stderr",
     "output_type": "stream",
     "text": [
      "Processing interviews:  45%|████▍     | 111/249 [02:09<02:41,  1.17s/it]"
     ]
    },
    {
     "name": "stdout",
     "output_type": "stream",
     "text": [
      "✔️ Finished: NBA EASTERN CONFERENCE FINALS: CAVALIERS v HAWKS - May 26, 2015\n"
     ]
    },
    {
     "name": "stderr",
     "output_type": "stream",
     "text": [
      "Processing interviews:  45%|████▍     | 112/249 [02:10<02:39,  1.17s/it]"
     ]
    },
    {
     "name": "stdout",
     "output_type": "stream",
     "text": [
      "✔️ Finished: NBA EASTERN CONFERENCE FINALS: CAVALIERS v HAWKS - May 25, 2015\n"
     ]
    },
    {
     "name": "stderr",
     "output_type": "stream",
     "text": [
      "Processing interviews:  45%|████▌     | 113/249 [02:11<02:37,  1.16s/it]"
     ]
    },
    {
     "name": "stdout",
     "output_type": "stream",
     "text": [
      "✔️ Finished: NBA EASTERN CONFERENCE FINALS: CAVALIERS v HAWKS - May 24, 2015\n"
     ]
    },
    {
     "name": "stderr",
     "output_type": "stream",
     "text": [
      "Processing interviews:  46%|████▌     | 114/249 [02:12<02:35,  1.16s/it]"
     ]
    },
    {
     "name": "stdout",
     "output_type": "stream",
     "text": [
      "✔️ Finished: NBA EASTERN CONFERENCE FINALS: CAVALIERS v HAWKS - May 23, 2015\n"
     ]
    },
    {
     "name": "stderr",
     "output_type": "stream",
     "text": [
      "Processing interviews:  46%|████▌     | 115/249 [02:13<02:34,  1.15s/it]"
     ]
    },
    {
     "name": "stdout",
     "output_type": "stream",
     "text": [
      "✔️ Finished: NBA EASTERN CONFERENCE FINALS: CAVALIERS v HAWKS - May 22, 2015\n"
     ]
    },
    {
     "name": "stderr",
     "output_type": "stream",
     "text": [
      "Processing interviews:  47%|████▋     | 116/249 [02:14<02:33,  1.15s/it]"
     ]
    },
    {
     "name": "stdout",
     "output_type": "stream",
     "text": [
      "✔️ Finished: NBA EASTERN CONFERENCE FINALS: CAVALIERS v HAWKS - May 21, 2015\n"
     ]
    },
    {
     "name": "stderr",
     "output_type": "stream",
     "text": [
      "Processing interviews:  47%|████▋     | 117/249 [02:16<02:32,  1.16s/it]"
     ]
    },
    {
     "name": "stdout",
     "output_type": "stream",
     "text": [
      "✔️ Finished: NBA EASTERN CONFERENCE FINALS: CAVALIERS v HAWKS - May 20, 2015\n"
     ]
    },
    {
     "name": "stderr",
     "output_type": "stream",
     "text": [
      "Processing interviews:  47%|████▋     | 118/249 [02:17<02:31,  1.16s/it]"
     ]
    },
    {
     "name": "stdout",
     "output_type": "stream",
     "text": [
      "✔️ Finished: NBA ALL-STAR WEEKEND - February 15, 2015\n"
     ]
    },
    {
     "name": "stderr",
     "output_type": "stream",
     "text": [
      "Processing interviews:  48%|████▊     | 119/249 [02:18<02:30,  1.16s/it]"
     ]
    },
    {
     "name": "stdout",
     "output_type": "stream",
     "text": [
      "✔️ Finished: NBA ALL-STAR WEEKEND - February 13, 2015\n"
     ]
    },
    {
     "name": "stderr",
     "output_type": "stream",
     "text": [
      "Processing interviews:  48%|████▊     | 120/249 [02:19<02:29,  1.16s/it]"
     ]
    },
    {
     "name": "stdout",
     "output_type": "stream",
     "text": [
      "✔️ Finished: CLEVELAND CAVALIERS MEDIA CONFERENCE - August 8, 2014\n"
     ]
    },
    {
     "name": "stderr",
     "output_type": "stream",
     "text": [
      "Processing interviews:  49%|████▊     | 121/249 [02:20<02:28,  1.16s/it]"
     ]
    },
    {
     "name": "stdout",
     "output_type": "stream",
     "text": [
      "✔️ Finished: NBA FINALS: HEAT v SPURS - June 15, 2014\n"
     ]
    },
    {
     "name": "stderr",
     "output_type": "stream",
     "text": [
      "Processing interviews:  49%|████▉     | 122/249 [02:21<02:27,  1.16s/it]"
     ]
    },
    {
     "name": "stdout",
     "output_type": "stream",
     "text": [
      "✔️ Finished: NBA FINALS: HEAT v SPURS - June 14, 2014\n"
     ]
    },
    {
     "name": "stderr",
     "output_type": "stream",
     "text": [
      "Processing interviews:  49%|████▉     | 123/249 [02:23<02:26,  1.16s/it]"
     ]
    },
    {
     "name": "stdout",
     "output_type": "stream",
     "text": [
      "✔️ Finished: NBA FINALS: HEAT v SPURS - June 12, 2014\n"
     ]
    },
    {
     "name": "stderr",
     "output_type": "stream",
     "text": [
      "Processing interviews:  50%|████▉     | 124/249 [02:24<02:24,  1.16s/it]"
     ]
    },
    {
     "name": "stdout",
     "output_type": "stream",
     "text": [
      "✔️ Finished: NBA FINALS: HEAT v SPURS - June 11, 2014\n"
     ]
    },
    {
     "name": "stderr",
     "output_type": "stream",
     "text": [
      "Processing interviews:  50%|█████     | 125/249 [02:25<02:24,  1.17s/it]"
     ]
    },
    {
     "name": "stdout",
     "output_type": "stream",
     "text": [
      "✔️ Finished: NBA FINALS: HEAT v SPURS - June 10, 2014\n"
     ]
    },
    {
     "name": "stderr",
     "output_type": "stream",
     "text": [
      "Processing interviews:  51%|█████     | 126/249 [02:26<02:23,  1.16s/it]"
     ]
    },
    {
     "name": "stdout",
     "output_type": "stream",
     "text": [
      "✔️ Finished: NBA FINALS: HEAT v SPURS - June 8, 2014\n"
     ]
    },
    {
     "name": "stderr",
     "output_type": "stream",
     "text": [
      "Processing interviews:  51%|█████     | 127/249 [02:27<02:21,  1.16s/it]"
     ]
    },
    {
     "name": "stdout",
     "output_type": "stream",
     "text": [
      "✔️ Finished: NBA FINALS: HEAT v SPURS - June 7, 2014\n"
     ]
    },
    {
     "name": "stderr",
     "output_type": "stream",
     "text": [
      "Processing interviews:  51%|█████▏    | 128/249 [02:28<02:19,  1.15s/it]"
     ]
    },
    {
     "name": "stdout",
     "output_type": "stream",
     "text": [
      "✔️ Finished: NBA FINALS: HEAT v SPURS - June 6, 2014\n"
     ]
    },
    {
     "name": "stderr",
     "output_type": "stream",
     "text": [
      "Processing interviews:  52%|█████▏    | 129/249 [02:30<02:19,  1.16s/it]"
     ]
    },
    {
     "name": "stdout",
     "output_type": "stream",
     "text": [
      "✔️ Finished: NBA FINALS: HEAT v SPURS - June 5, 2014\n"
     ]
    },
    {
     "name": "stderr",
     "output_type": "stream",
     "text": [
      "Processing interviews:  52%|█████▏    | 130/249 [02:31<02:17,  1.16s/it]"
     ]
    },
    {
     "name": "stdout",
     "output_type": "stream",
     "text": [
      "✔️ Finished: NBA FINALS: HEAT v SPURS - June 4, 2014\n"
     ]
    },
    {
     "name": "stderr",
     "output_type": "stream",
     "text": [
      "Processing interviews:  53%|█████▎    | 131/249 [02:32<02:16,  1.15s/it]"
     ]
    },
    {
     "name": "stdout",
     "output_type": "stream",
     "text": [
      "✔️ Finished: NBA EASTERN CONFERENCE FINALS: HEAT v PACERS - May 30, 2014\n"
     ]
    },
    {
     "name": "stderr",
     "output_type": "stream",
     "text": [
      "Processing interviews:  53%|█████▎    | 132/249 [02:33<02:15,  1.16s/it]"
     ]
    },
    {
     "name": "stdout",
     "output_type": "stream",
     "text": [
      "✔️ Finished: NBA EASTERN CONFERENCE FINALS: HEAT v PACERS - May 29, 2014\n"
     ]
    },
    {
     "name": "stderr",
     "output_type": "stream",
     "text": [
      "Processing interviews:  53%|█████▎    | 133/249 [02:34<02:13,  1.15s/it]"
     ]
    },
    {
     "name": "stdout",
     "output_type": "stream",
     "text": [
      "✔️ Finished: NBA EASTERN CONFERENCE FINALS: HEAT v PACERS - May 28, 2014\n"
     ]
    },
    {
     "name": "stderr",
     "output_type": "stream",
     "text": [
      "Processing interviews:  54%|█████▍    | 134/249 [02:35<02:13,  1.16s/it]"
     ]
    },
    {
     "name": "stdout",
     "output_type": "stream",
     "text": [
      "✔️ Finished: NBA EASTERN CONFERENCE FINALS: HEAT v PACERS - May 26, 2014\n"
     ]
    },
    {
     "name": "stderr",
     "output_type": "stream",
     "text": [
      "Processing interviews:  54%|█████▍    | 135/249 [02:36<02:12,  1.16s/it]"
     ]
    },
    {
     "name": "stdout",
     "output_type": "stream",
     "text": [
      "✔️ Finished: NBA EASTERN CONFERENCE FINALS: HEAT v PACERS - May 25, 2014\n"
     ]
    },
    {
     "name": "stderr",
     "output_type": "stream",
     "text": [
      "Processing interviews:  55%|█████▍    | 136/249 [02:38<02:11,  1.16s/it]"
     ]
    },
    {
     "name": "stdout",
     "output_type": "stream",
     "text": [
      "✔️ Finished: NBA EASTERN CONFERENCE FINALS: HEAT v PACERS - May 24, 2014\n"
     ]
    },
    {
     "name": "stderr",
     "output_type": "stream",
     "text": [
      "Processing interviews:  55%|█████▌    | 137/249 [02:39<02:09,  1.16s/it]"
     ]
    },
    {
     "name": "stdout",
     "output_type": "stream",
     "text": [
      "✔️ Finished: NBA EASTERN CONFERENCE FINALS: HEAT v PACERS - May 23, 2014\n"
     ]
    },
    {
     "name": "stderr",
     "output_type": "stream",
     "text": [
      "Processing interviews:  55%|█████▌    | 138/249 [02:40<02:08,  1.16s/it]"
     ]
    },
    {
     "name": "stdout",
     "output_type": "stream",
     "text": [
      "✔️ Finished: NBA EASTERN CONFERENCE FINALS: HEAT v PACERS - May 22, 2014\n"
     ]
    },
    {
     "name": "stderr",
     "output_type": "stream",
     "text": [
      "Processing interviews:  56%|█████▌    | 139/249 [02:41<02:07,  1.16s/it]"
     ]
    },
    {
     "name": "stdout",
     "output_type": "stream",
     "text": [
      "✔️ Finished: NBA EASTERN CONFERENCE FINALS: HEAT v PACERS - May 20, 2014\n"
     ]
    },
    {
     "name": "stderr",
     "output_type": "stream",
     "text": [
      "Processing interviews:  56%|█████▌    | 140/249 [02:42<02:05,  1.15s/it]"
     ]
    },
    {
     "name": "stdout",
     "output_type": "stream",
     "text": [
      "✔️ Finished: NBA EASTERN CONFERENCE FINALS: HEAT v PACERS - May 19, 2014\n"
     ]
    },
    {
     "name": "stderr",
     "output_type": "stream",
     "text": [
      "Processing interviews:  57%|█████▋    | 141/249 [02:43<02:04,  1.15s/it]"
     ]
    },
    {
     "name": "stdout",
     "output_type": "stream",
     "text": [
      "✔️ Finished: NBA EASTERN CONFERENCE FINALS: HEAT v PACERS - May 18, 2014\n"
     ]
    },
    {
     "name": "stderr",
     "output_type": "stream",
     "text": [
      "Processing interviews:  57%|█████▋    | 142/249 [02:45<02:03,  1.15s/it]"
     ]
    },
    {
     "name": "stdout",
     "output_type": "stream",
     "text": [
      "✔️ Finished: NBA ALL-STAR WEEKEND - February 16, 2014\n"
     ]
    },
    {
     "name": "stderr",
     "output_type": "stream",
     "text": [
      "Processing interviews:  57%|█████▋    | 143/249 [02:46<02:02,  1.16s/it]"
     ]
    },
    {
     "name": "stdout",
     "output_type": "stream",
     "text": [
      "✔️ Finished: NBA ALL-STAR WEEKEND - February 14, 2014\n"
     ]
    },
    {
     "name": "stderr",
     "output_type": "stream",
     "text": [
      "Processing interviews:  58%|█████▊    | 144/249 [02:47<02:03,  1.17s/it]"
     ]
    },
    {
     "name": "stdout",
     "output_type": "stream",
     "text": [
      "✔️ Finished: NBA FINALS: SPURS v HEAT - June 20, 2013\n"
     ]
    },
    {
     "name": "stderr",
     "output_type": "stream",
     "text": [
      "Processing interviews:  58%|█████▊    | 145/249 [02:48<02:01,  1.17s/it]"
     ]
    },
    {
     "name": "stdout",
     "output_type": "stream",
     "text": [
      "✔️ Finished: NBA FINALS: SPURS v HEAT - June 19, 2013\n"
     ]
    },
    {
     "name": "stderr",
     "output_type": "stream",
     "text": [
      "Processing interviews:  59%|█████▊    | 146/249 [02:49<02:00,  1.17s/it]"
     ]
    },
    {
     "name": "stdout",
     "output_type": "stream",
     "text": [
      "✔️ Finished: NBA FINALS: SPURS v HEAT - June 18, 2013\n"
     ]
    },
    {
     "name": "stderr",
     "output_type": "stream",
     "text": [
      "Processing interviews:  59%|█████▉    | 147/249 [02:50<01:58,  1.16s/it]"
     ]
    },
    {
     "name": "stdout",
     "output_type": "stream",
     "text": [
      "✔️ Finished: NBA FINALS: SPURS v HEAT - June 16, 2013\n"
     ]
    },
    {
     "name": "stderr",
     "output_type": "stream",
     "text": [
      "Processing interviews:  59%|█████▉    | 148/249 [02:52<01:57,  1.16s/it]"
     ]
    },
    {
     "name": "stdout",
     "output_type": "stream",
     "text": [
      "✔️ Finished: NBA FINALS: SPURS v HEAT - June 15, 2013\n"
     ]
    },
    {
     "name": "stderr",
     "output_type": "stream",
     "text": [
      "Processing interviews:  60%|█████▉    | 149/249 [02:53<01:55,  1.16s/it]"
     ]
    },
    {
     "name": "stdout",
     "output_type": "stream",
     "text": [
      "✔️ Finished: NBA FINALS: SPURS v HEAT - June 13, 2013\n"
     ]
    },
    {
     "name": "stderr",
     "output_type": "stream",
     "text": [
      "Processing interviews:  60%|██████    | 150/249 [02:54<01:55,  1.17s/it]"
     ]
    },
    {
     "name": "stdout",
     "output_type": "stream",
     "text": [
      "✔️ Finished: NBA FINALS: SPURS v HEAT - June 12, 2013\n"
     ]
    },
    {
     "name": "stderr",
     "output_type": "stream",
     "text": [
      "Processing interviews:  61%|██████    | 151/249 [02:55<01:53,  1.16s/it]"
     ]
    },
    {
     "name": "stdout",
     "output_type": "stream",
     "text": [
      "✔️ Finished: NBA FINALS: SPURS v HEAT - June 9, 2013\n"
     ]
    },
    {
     "name": "stderr",
     "output_type": "stream",
     "text": [
      "Processing interviews:  61%|██████    | 152/249 [02:56<01:52,  1.16s/it]"
     ]
    },
    {
     "name": "stdout",
     "output_type": "stream",
     "text": [
      "✔️ Finished: NBA FINALS: SPURS v HEAT - June 8, 2013\n"
     ]
    },
    {
     "name": "stderr",
     "output_type": "stream",
     "text": [
      "Processing interviews:  61%|██████▏   | 153/249 [02:57<01:50,  1.15s/it]"
     ]
    },
    {
     "name": "stdout",
     "output_type": "stream",
     "text": [
      "✔️ Finished: NBA FINALS: SPURS v HEAT - June 7, 2013\n"
     ]
    },
    {
     "name": "stderr",
     "output_type": "stream",
     "text": [
      "Processing interviews:  62%|██████▏   | 154/249 [02:59<01:49,  1.15s/it]"
     ]
    },
    {
     "name": "stdout",
     "output_type": "stream",
     "text": [
      "✔️ Finished: NBA FINALS: SPURS v HEAT - June 6, 2013\n"
     ]
    },
    {
     "name": "stderr",
     "output_type": "stream",
     "text": [
      "Processing interviews:  62%|██████▏   | 155/249 [03:00<01:49,  1.17s/it]"
     ]
    },
    {
     "name": "stdout",
     "output_type": "stream",
     "text": [
      "✔️ Finished: NBA FINALS: SPURS v HEAT - June 5, 2013\n"
     ]
    },
    {
     "name": "stderr",
     "output_type": "stream",
     "text": [
      "Processing interviews:  63%|██████▎   | 156/249 [03:01<01:48,  1.17s/it]"
     ]
    },
    {
     "name": "stdout",
     "output_type": "stream",
     "text": [
      "✔️ Finished: NBA EASTERN CONFERENCE FINALS: PACERS v HEAT - June 3, 2013\n"
     ]
    },
    {
     "name": "stderr",
     "output_type": "stream",
     "text": [
      "Processing interviews:  63%|██████▎   | 157/249 [03:02<01:49,  1.19s/it]"
     ]
    },
    {
     "name": "stdout",
     "output_type": "stream",
     "text": [
      "✔️ Finished: NBA EASTERN CONFERENCE FINALS: PACERS v HEAT - June 1, 2013\n"
     ]
    },
    {
     "name": "stderr",
     "output_type": "stream",
     "text": [
      "Processing interviews:  63%|██████▎   | 158/249 [03:03<01:47,  1.18s/it]"
     ]
    },
    {
     "name": "stdout",
     "output_type": "stream",
     "text": [
      "✔️ Finished: NBA EASTERN CONFERENCE FINALS: PACERS v HEAT - May 31, 2013\n"
     ]
    },
    {
     "name": "stderr",
     "output_type": "stream",
     "text": [
      "Processing interviews:  64%|██████▍   | 159/249 [03:04<01:45,  1.17s/it]"
     ]
    },
    {
     "name": "stdout",
     "output_type": "stream",
     "text": [
      "✔️ Finished: NBA EASTERN CONFERENCE FINALS: PACERS v HEAT - May 30, 2013\n"
     ]
    },
    {
     "name": "stderr",
     "output_type": "stream",
     "text": [
      "Processing interviews:  64%|██████▍   | 160/249 [03:06<01:43,  1.17s/it]"
     ]
    },
    {
     "name": "stdout",
     "output_type": "stream",
     "text": [
      "✔️ Finished: NBA EASTERN CONFERENCE FINALS: PACERS v HEAT - May 28, 2013\n"
     ]
    },
    {
     "name": "stderr",
     "output_type": "stream",
     "text": [
      "Processing interviews:  65%|██████▍   | 161/249 [03:07<01:42,  1.16s/it]"
     ]
    },
    {
     "name": "stdout",
     "output_type": "stream",
     "text": [
      "✔️ Finished: NBA EASTERN CONFERENCE FINALS: PACERS v HEAT - May 27, 2013\n"
     ]
    },
    {
     "name": "stderr",
     "output_type": "stream",
     "text": [
      "Processing interviews:  65%|██████▌   | 162/249 [03:08<01:40,  1.16s/it]"
     ]
    },
    {
     "name": "stdout",
     "output_type": "stream",
     "text": [
      "✔️ Finished: NBA EASTERN CONFERENCE FINALS: PACERS v HEAT - May 26, 2013\n"
     ]
    },
    {
     "name": "stderr",
     "output_type": "stream",
     "text": [
      "Processing interviews:  65%|██████▌   | 163/249 [03:09<01:39,  1.16s/it]"
     ]
    },
    {
     "name": "stdout",
     "output_type": "stream",
     "text": [
      "✔️ Finished: NBA EASTERN CONFERENCE FINALS: PACERS v HEAT - May 24, 2013\n"
     ]
    },
    {
     "name": "stderr",
     "output_type": "stream",
     "text": [
      "Processing interviews:  66%|██████▌   | 164/249 [03:10<01:38,  1.16s/it]"
     ]
    },
    {
     "name": "stdout",
     "output_type": "stream",
     "text": [
      "✔️ Finished: NBA EASTERN CONFERENCE FINALS: PACERS v HEAT - May 23, 2013\n"
     ]
    },
    {
     "name": "stderr",
     "output_type": "stream",
     "text": [
      "Processing interviews:  66%|██████▋   | 165/249 [03:11<01:37,  1.16s/it]"
     ]
    },
    {
     "name": "stdout",
     "output_type": "stream",
     "text": [
      "✔️ Finished: NBA EASTERN CONFERENCE FINALS: PACERS v HEAT - May 22, 2013\n"
     ]
    },
    {
     "name": "stderr",
     "output_type": "stream",
     "text": [
      "Processing interviews:  67%|██████▋   | 166/249 [03:12<01:36,  1.16s/it]"
     ]
    },
    {
     "name": "stdout",
     "output_type": "stream",
     "text": [
      "✔️ Finished: NBA ALL-STAR WEEKEND - February 15, 2013\n"
     ]
    },
    {
     "name": "stderr",
     "output_type": "stream",
     "text": [
      "Processing interviews:  67%|██████▋   | 167/249 [03:14<01:34,  1.16s/it]"
     ]
    },
    {
     "name": "stdout",
     "output_type": "stream",
     "text": [
      "✔️ Finished: NBA FINALS: HEAT v THUNDER - June 21, 2012\n"
     ]
    },
    {
     "name": "stderr",
     "output_type": "stream",
     "text": [
      "Processing interviews:  67%|██████▋   | 168/249 [03:15<01:33,  1.16s/it]"
     ]
    },
    {
     "name": "stdout",
     "output_type": "stream",
     "text": [
      "✔️ Finished: NBA FINALS: HEAT v THUNDER - June 21, 2012\n"
     ]
    },
    {
     "name": "stderr",
     "output_type": "stream",
     "text": [
      "Processing interviews:  68%|██████▊   | 169/249 [03:16<01:32,  1.16s/it]"
     ]
    },
    {
     "name": "stdout",
     "output_type": "stream",
     "text": [
      "✔️ Finished: NBA FINALS: HEAT v THUNDER - June 20, 2012\n"
     ]
    },
    {
     "name": "stderr",
     "output_type": "stream",
     "text": [
      "Processing interviews:  68%|██████▊   | 170/249 [03:17<01:31,  1.15s/it]"
     ]
    },
    {
     "name": "stdout",
     "output_type": "stream",
     "text": [
      "✔️ Finished: NBA FINALS: HEAT v THUNDER - June 19, 2012\n"
     ]
    },
    {
     "name": "stderr",
     "output_type": "stream",
     "text": [
      "Processing interviews:  69%|██████▊   | 171/249 [03:18<01:30,  1.16s/it]"
     ]
    },
    {
     "name": "stdout",
     "output_type": "stream",
     "text": [
      "✔️ Finished: NBA FINALS: HEAT v THUNDER - June 18, 2012\n"
     ]
    },
    {
     "name": "stderr",
     "output_type": "stream",
     "text": [
      "Processing interviews:  69%|██████▉   | 172/249 [03:19<01:29,  1.16s/it]"
     ]
    },
    {
     "name": "stdout",
     "output_type": "stream",
     "text": [
      "✔️ Finished: NBA FINALS: HEAT v THUNDER - June 17, 2012\n"
     ]
    },
    {
     "name": "stderr",
     "output_type": "stream",
     "text": [
      "Processing interviews:  69%|██████▉   | 173/249 [03:21<01:28,  1.16s/it]"
     ]
    },
    {
     "name": "stdout",
     "output_type": "stream",
     "text": [
      "✔️ Finished: NBA FINALS: HEAT v THUNDER - June 16, 2012\n"
     ]
    },
    {
     "name": "stderr",
     "output_type": "stream",
     "text": [
      "Processing interviews:  70%|██████▉   | 174/249 [03:22<01:27,  1.16s/it]"
     ]
    },
    {
     "name": "stdout",
     "output_type": "stream",
     "text": [
      "✔️ Finished: NBA FINALS: HEAT v THUNDER - June 14, 2012\n"
     ]
    },
    {
     "name": "stderr",
     "output_type": "stream",
     "text": [
      "Processing interviews:  70%|███████   | 175/249 [03:23<01:26,  1.16s/it]"
     ]
    },
    {
     "name": "stdout",
     "output_type": "stream",
     "text": [
      "✔️ Finished: NBA FINALS: HEAT v THUNDER - June 13, 2012\n"
     ]
    },
    {
     "name": "stderr",
     "output_type": "stream",
     "text": [
      "Processing interviews:  71%|███████   | 176/249 [03:24<01:24,  1.16s/it]"
     ]
    },
    {
     "name": "stdout",
     "output_type": "stream",
     "text": [
      "✔️ Finished: NBA FINALS: HEAT v THUNDER - June 12, 2012\n"
     ]
    },
    {
     "name": "stderr",
     "output_type": "stream",
     "text": [
      "Processing interviews:  71%|███████   | 177/249 [03:25<01:23,  1.16s/it]"
     ]
    },
    {
     "name": "stdout",
     "output_type": "stream",
     "text": [
      "✔️ Finished: NBA FINALS: HEAT v THUNDER - June 11, 2012\n"
     ]
    },
    {
     "name": "stderr",
     "output_type": "stream",
     "text": [
      "Processing interviews:  71%|███████▏  | 178/249 [03:26<01:22,  1.16s/it]"
     ]
    },
    {
     "name": "stdout",
     "output_type": "stream",
     "text": [
      "✔️ Finished: NBA EASTERN CONFERENCE FINALS: CELTICS v HEAT - June 9, 2012\n"
     ]
    },
    {
     "name": "stderr",
     "output_type": "stream",
     "text": [
      "Processing interviews:  72%|███████▏  | 179/249 [03:28<01:21,  1.16s/it]"
     ]
    },
    {
     "name": "stdout",
     "output_type": "stream",
     "text": [
      "✔️ Finished: NBA EASTERN CONFERENCE FINALS: CELTICS v HEAT - June 7, 2012\n"
     ]
    },
    {
     "name": "stderr",
     "output_type": "stream",
     "text": [
      "Processing interviews:  72%|███████▏  | 180/249 [03:29<01:20,  1.16s/it]"
     ]
    },
    {
     "name": "stdout",
     "output_type": "stream",
     "text": [
      "✔️ Finished: NBA EASTERN CONFERENCE FINALS: CELTICS v HEAT - June 6, 2012\n"
     ]
    },
    {
     "name": "stderr",
     "output_type": "stream",
     "text": [
      "Processing interviews:  73%|███████▎  | 181/249 [03:30<01:18,  1.16s/it]"
     ]
    },
    {
     "name": "stdout",
     "output_type": "stream",
     "text": [
      "✔️ Finished: NBA EASTERN CONFERENCE FINALS: CELTICS v HEAT - June 2, 2012\n"
     ]
    },
    {
     "name": "stderr",
     "output_type": "stream",
     "text": [
      "Processing interviews:  73%|███████▎  | 182/249 [03:31<01:18,  1.17s/it]"
     ]
    },
    {
     "name": "stdout",
     "output_type": "stream",
     "text": [
      "✔️ Finished: NBA EASTERN CONFERENCE FINALS: CELTICS v HEAT - June 1, 2012\n"
     ]
    },
    {
     "name": "stderr",
     "output_type": "stream",
     "text": [
      "Processing interviews:  73%|███████▎  | 183/249 [03:32<01:17,  1.17s/it]"
     ]
    },
    {
     "name": "stdout",
     "output_type": "stream",
     "text": [
      "✔️ Finished: NBA EASTERN CONFERENCE FINALS: CELTICS v HEAT - May 30, 2012\n"
     ]
    },
    {
     "name": "stderr",
     "output_type": "stream",
     "text": [
      "Processing interviews:  74%|███████▍  | 184/249 [03:33<01:16,  1.18s/it]"
     ]
    },
    {
     "name": "stdout",
     "output_type": "stream",
     "text": [
      "✔️ Finished: NBA EASTERN CONFERENCE FINALS: CELTICS v HEAT - May 29, 2012\n"
     ]
    },
    {
     "name": "stderr",
     "output_type": "stream",
     "text": [
      "Processing interviews:  74%|███████▍  | 185/249 [03:35<01:15,  1.18s/it]"
     ]
    },
    {
     "name": "stdout",
     "output_type": "stream",
     "text": [
      "✔️ Finished: NBA EASTERN CONFERENCE FINALS: CELTICS v HEAT - May 28, 2012\n"
     ]
    },
    {
     "name": "stderr",
     "output_type": "stream",
     "text": [
      "Processing interviews:  75%|███████▍  | 186/249 [03:36<01:13,  1.17s/it]"
     ]
    },
    {
     "name": "stdout",
     "output_type": "stream",
     "text": [
      "✔️ Finished: NBA ALL-STAR WEEKEND - February 26, 2012\n"
     ]
    },
    {
     "name": "stderr",
     "output_type": "stream",
     "text": [
      "Processing interviews:  75%|███████▌  | 187/249 [03:37<01:12,  1.17s/it]"
     ]
    },
    {
     "name": "stdout",
     "output_type": "stream",
     "text": [
      "✔️ Finished: NBA ALL-STAR WEEKEND - February 24, 2012\n"
     ]
    },
    {
     "name": "stderr",
     "output_type": "stream",
     "text": [
      "Processing interviews:  76%|███████▌  | 188/249 [03:38<01:11,  1.17s/it]"
     ]
    },
    {
     "name": "stdout",
     "output_type": "stream",
     "text": [
      "✔️ Finished: NBA FINALS: MAVERICKS v HEAT - June 12, 2011\n"
     ]
    },
    {
     "name": "stderr",
     "output_type": "stream",
     "text": [
      "Processing interviews:  76%|███████▌  | 189/249 [03:39<01:10,  1.17s/it]"
     ]
    },
    {
     "name": "stdout",
     "output_type": "stream",
     "text": [
      "✔️ Finished: NBA FINALS: MAVERICKS v HEAT - June 11, 2011\n"
     ]
    },
    {
     "name": "stderr",
     "output_type": "stream",
     "text": [
      "Processing interviews:  76%|███████▋  | 190/249 [03:40<01:08,  1.17s/it]"
     ]
    },
    {
     "name": "stdout",
     "output_type": "stream",
     "text": [
      "✔️ Finished: NBA FINALS: MAVERICKS v HEAT - June 9, 2011\n"
     ]
    },
    {
     "name": "stderr",
     "output_type": "stream",
     "text": [
      "Processing interviews:  77%|███████▋  | 191/249 [03:42<01:07,  1.17s/it]"
     ]
    },
    {
     "name": "stdout",
     "output_type": "stream",
     "text": [
      "✔️ Finished: NBA FINALS: MAVERICKS v HEAT - June 8, 2011\n"
     ]
    },
    {
     "name": "stderr",
     "output_type": "stream",
     "text": [
      "Processing interviews:  77%|███████▋  | 192/249 [03:43<01:06,  1.16s/it]"
     ]
    },
    {
     "name": "stdout",
     "output_type": "stream",
     "text": [
      "✔️ Finished: NBA FINALS: MAVERICKS v HEAT - June 7, 2011\n"
     ]
    },
    {
     "name": "stderr",
     "output_type": "stream",
     "text": [
      "Processing interviews:  78%|███████▊  | 193/249 [03:44<01:05,  1.16s/it]"
     ]
    },
    {
     "name": "stdout",
     "output_type": "stream",
     "text": [
      "✔️ Finished: NBA FINALS: MAVERICKS v HEAT - June 6, 2011\n"
     ]
    },
    {
     "name": "stderr",
     "output_type": "stream",
     "text": [
      "Processing interviews:  78%|███████▊  | 194/249 [03:45<01:03,  1.16s/it]"
     ]
    },
    {
     "name": "stdout",
     "output_type": "stream",
     "text": [
      "✔️ Finished: NBA FINALS: MAVERICKS v HEAT - June 5, 2011\n"
     ]
    },
    {
     "name": "stderr",
     "output_type": "stream",
     "text": [
      "Processing interviews:  78%|███████▊  | 195/249 [03:46<01:02,  1.15s/it]"
     ]
    },
    {
     "name": "stdout",
     "output_type": "stream",
     "text": [
      "✔️ Finished: NBA FINALS: MAVERICKS v HEAT - June 4, 2011\n"
     ]
    },
    {
     "name": "stderr",
     "output_type": "stream",
     "text": [
      "Processing interviews:  79%|███████▊  | 196/249 [03:47<01:01,  1.16s/it]"
     ]
    },
    {
     "name": "stdout",
     "output_type": "stream",
     "text": [
      "✔️ Finished: NBA FINALS: MAVERICKS v HEAT - June 2, 2011\n"
     ]
    },
    {
     "name": "stderr",
     "output_type": "stream",
     "text": [
      "Processing interviews:  79%|███████▉  | 197/249 [03:49<01:00,  1.16s/it]"
     ]
    },
    {
     "name": "stdout",
     "output_type": "stream",
     "text": [
      "✔️ Finished: NBA FINALS: MAVERICKS v HEAT - June 1, 2011\n"
     ]
    },
    {
     "name": "stderr",
     "output_type": "stream",
     "text": [
      "Processing interviews:  80%|███████▉  | 198/249 [03:50<00:59,  1.16s/it]"
     ]
    },
    {
     "name": "stdout",
     "output_type": "stream",
     "text": [
      "✔️ Finished: NBA FINALS: MAVERICKS v HEAT - May 31, 2011\n"
     ]
    },
    {
     "name": "stderr",
     "output_type": "stream",
     "text": [
      "Processing interviews:  80%|███████▉  | 199/249 [03:51<00:58,  1.16s/it]"
     ]
    },
    {
     "name": "stdout",
     "output_type": "stream",
     "text": [
      "✔️ Finished: NBA FINALS: MAVERICKS v HEAT - May 30, 2011\n"
     ]
    },
    {
     "name": "stderr",
     "output_type": "stream",
     "text": [
      "Processing interviews:  80%|████████  | 200/249 [03:52<00:57,  1.17s/it]"
     ]
    },
    {
     "name": "stdout",
     "output_type": "stream",
     "text": [
      "✔️ Finished: NBA EASTERN CONFERENCE FINALS: HEAT v BULLS - May 26, 2011\n"
     ]
    },
    {
     "name": "stderr",
     "output_type": "stream",
     "text": [
      "Processing interviews:  81%|████████  | 201/249 [03:53<00:55,  1.17s/it]"
     ]
    },
    {
     "name": "stdout",
     "output_type": "stream",
     "text": [
      "✔️ Finished: NBA EASTERN CONFERENCE FINALS: HEAT v BULLS - May 25, 2011\n"
     ]
    },
    {
     "name": "stderr",
     "output_type": "stream",
     "text": [
      "Processing interviews:  81%|████████  | 202/249 [03:54<00:54,  1.16s/it]"
     ]
    },
    {
     "name": "stdout",
     "output_type": "stream",
     "text": [
      "✔️ Finished: NBA EASTERN CONFERENCE FINALS: HEAT v BULLS - May 24, 2011\n"
     ]
    },
    {
     "name": "stderr",
     "output_type": "stream",
     "text": [
      "Processing interviews:  82%|████████▏ | 203/249 [03:56<00:53,  1.16s/it]"
     ]
    },
    {
     "name": "stdout",
     "output_type": "stream",
     "text": [
      "✔️ Finished: NBA EASTERN CONFERENCE FINALS: HEAT v BULLS - May 23, 2011\n"
     ]
    },
    {
     "name": "stderr",
     "output_type": "stream",
     "text": [
      "Processing interviews:  82%|████████▏ | 204/249 [03:57<00:52,  1.16s/it]"
     ]
    },
    {
     "name": "stdout",
     "output_type": "stream",
     "text": [
      "✔️ Finished: NBA EASTERN CONFERENCE FINALS: HEAT v BULLS - May 22, 2011\n"
     ]
    },
    {
     "name": "stderr",
     "output_type": "stream",
     "text": [
      "Processing interviews:  82%|████████▏ | 205/249 [03:58<00:51,  1.17s/it]"
     ]
    },
    {
     "name": "stdout",
     "output_type": "stream",
     "text": [
      "✔️ Finished: NBA EASTERN CONFERENCE FINALS: HEAT v BULLS - May 21, 2011\n"
     ]
    },
    {
     "name": "stderr",
     "output_type": "stream",
     "text": [
      "Processing interviews:  83%|████████▎ | 206/249 [03:59<00:50,  1.17s/it]"
     ]
    },
    {
     "name": "stdout",
     "output_type": "stream",
     "text": [
      "✔️ Finished: NBA EASTERN CONFERENCE FINALS: HEAT v BULLS - May 20, 2011\n"
     ]
    },
    {
     "name": "stderr",
     "output_type": "stream",
     "text": [
      "Processing interviews:  83%|████████▎ | 207/249 [04:00<00:48,  1.16s/it]"
     ]
    },
    {
     "name": "stdout",
     "output_type": "stream",
     "text": [
      "✔️ Finished: NBA EASTERN CONFERENCE FINALS: HEAT v BULLS - May 17, 2011\n"
     ]
    },
    {
     "name": "stderr",
     "output_type": "stream",
     "text": [
      "Processing interviews:  84%|████████▎ | 208/249 [04:01<00:48,  1.18s/it]"
     ]
    },
    {
     "name": "stdout",
     "output_type": "stream",
     "text": [
      "✔️ Finished: NBA EASTERN CONFERENCE FINALS: HEAT v BULLS - May 16, 2011\n"
     ]
    },
    {
     "name": "stderr",
     "output_type": "stream",
     "text": [
      "Processing interviews:  84%|████████▍ | 209/249 [04:03<00:46,  1.17s/it]"
     ]
    },
    {
     "name": "stdout",
     "output_type": "stream",
     "text": [
      "✔️ Finished: NBA ALL-STAR WEEKEND - February 20, 2011\n"
     ]
    },
    {
     "name": "stderr",
     "output_type": "stream",
     "text": [
      "Processing interviews:  84%|████████▍ | 210/249 [04:04<00:45,  1.17s/it]"
     ]
    },
    {
     "name": "stdout",
     "output_type": "stream",
     "text": [
      "✔️ Finished: NBA ALL-STAR WEEKEND - February 18, 2011\n"
     ]
    },
    {
     "name": "stderr",
     "output_type": "stream",
     "text": [
      "Processing interviews:  85%|████████▍ | 211/249 [04:05<00:44,  1.17s/it]"
     ]
    },
    {
     "name": "stdout",
     "output_type": "stream",
     "text": [
      "✔️ Finished: NBA SEASON GAME: HEAT v CELTICS - October 26, 2010\n"
     ]
    },
    {
     "name": "stderr",
     "output_type": "stream",
     "text": [
      "Processing interviews:  85%|████████▌ | 212/249 [04:06<00:42,  1.16s/it]"
     ]
    },
    {
     "name": "stdout",
     "output_type": "stream",
     "text": [
      "✔️ Finished: MIAMI HEAT MEDIA CONFERENCE - July 9, 2010\n"
     ]
    },
    {
     "name": "stderr",
     "output_type": "stream",
     "text": [
      "Processing interviews:  86%|████████▌ | 213/249 [04:07<00:41,  1.16s/it]"
     ]
    },
    {
     "name": "stdout",
     "output_type": "stream",
     "text": [
      "✔️ Finished: MIAMI HEAT MEDIA CONFERENCE - July 9, 2010\n"
     ]
    },
    {
     "name": "stderr",
     "output_type": "stream",
     "text": [
      "Processing interviews:  86%|████████▌ | 214/249 [04:08<00:40,  1.17s/it]"
     ]
    },
    {
     "name": "stdout",
     "output_type": "stream",
     "text": [
      "✔️ Finished: NBA ALL-STAR WEEKEND - February 14, 2010\n"
     ]
    },
    {
     "name": "stderr",
     "output_type": "stream",
     "text": [
      "Processing interviews:  86%|████████▋ | 215/249 [04:10<00:39,  1.17s/it]"
     ]
    },
    {
     "name": "stdout",
     "output_type": "stream",
     "text": [
      "✔️ Finished: NBA EASTERN CONFERENCE FINALS: MAGIC v CAVALIERS - May 29, 2009\n"
     ]
    },
    {
     "name": "stderr",
     "output_type": "stream",
     "text": [
      "Processing interviews:  87%|████████▋ | 216/249 [04:11<00:38,  1.16s/it]"
     ]
    },
    {
     "name": "stdout",
     "output_type": "stream",
     "text": [
      "✔️ Finished: NBA EASTERN CONFERENCE FINALS: MAGIC v CAVALIERS - May 28, 2009\n"
     ]
    },
    {
     "name": "stderr",
     "output_type": "stream",
     "text": [
      "Processing interviews:  87%|████████▋ | 217/249 [04:12<00:37,  1.17s/it]"
     ]
    },
    {
     "name": "stdout",
     "output_type": "stream",
     "text": [
      "✔️ Finished: NBA EASTERN CONFERENCE FINALS: MAGIC v CAVALIERS - May 26, 2009\n"
     ]
    },
    {
     "name": "stderr",
     "output_type": "stream",
     "text": [
      "Processing interviews:  88%|████████▊ | 218/249 [04:13<00:36,  1.17s/it]"
     ]
    },
    {
     "name": "stdout",
     "output_type": "stream",
     "text": [
      "✔️ Finished: NBA EASTERN CONFERENCE FINALS: MAGIC v CAVALIERS - May 25, 2009\n"
     ]
    },
    {
     "name": "stderr",
     "output_type": "stream",
     "text": [
      "Processing interviews:  88%|████████▊ | 219/249 [04:14<00:35,  1.19s/it]"
     ]
    },
    {
     "name": "stdout",
     "output_type": "stream",
     "text": [
      "✔️ Finished: NBA EASTERN CONFERENCE FINALS: MAGIC v CAVALIERS - May 24, 2009\n"
     ]
    },
    {
     "name": "stderr",
     "output_type": "stream",
     "text": [
      "Processing interviews:  88%|████████▊ | 220/249 [04:16<00:34,  1.19s/it]"
     ]
    },
    {
     "name": "stdout",
     "output_type": "stream",
     "text": [
      "✔️ Finished: NBA EASTERN CONFERENCE FINALS: MAGIC v CAVALIERS - May 22, 2009\n"
     ]
    },
    {
     "name": "stderr",
     "output_type": "stream",
     "text": [
      "Processing interviews:  89%|████████▉ | 221/249 [04:17<00:33,  1.18s/it]"
     ]
    },
    {
     "name": "stdout",
     "output_type": "stream",
     "text": [
      "✔️ Finished: NBA EASTERN CONFERENCE FINALS: MAGIC v CAVALIERS - May 21, 2009\n"
     ]
    },
    {
     "name": "stderr",
     "output_type": "stream",
     "text": [
      "Processing interviews:  89%|████████▉ | 222/249 [04:18<00:31,  1.17s/it]"
     ]
    },
    {
     "name": "stdout",
     "output_type": "stream",
     "text": [
      "✔️ Finished: NBA EASTERN CONFERENCE FINALS: MAGIC v CAVALIERS - May 20, 2009\n"
     ]
    },
    {
     "name": "stderr",
     "output_type": "stream",
     "text": [
      "Processing interviews:  90%|████████▉ | 223/249 [04:19<00:30,  1.17s/it]"
     ]
    },
    {
     "name": "stdout",
     "output_type": "stream",
     "text": [
      "✔️ Finished: NBA ALL-STAR WEEKEND - February 15, 2009\n"
     ]
    },
    {
     "name": "stderr",
     "output_type": "stream",
     "text": [
      "Processing interviews:  90%|████████▉ | 224/249 [04:20<00:29,  1.16s/it]"
     ]
    },
    {
     "name": "stdout",
     "output_type": "stream",
     "text": [
      "✔️ Finished: NBA ALL-STAR WEEKEND - February 13, 2009\n"
     ]
    },
    {
     "name": "stderr",
     "output_type": "stream",
     "text": [
      "Processing interviews:  90%|█████████ | 225/249 [04:21<00:27,  1.16s/it]"
     ]
    },
    {
     "name": "stdout",
     "output_type": "stream",
     "text": [
      "✔️ Finished: NBA ALL-STAR WEEKEND - February 17, 2008\n"
     ]
    },
    {
     "name": "stderr",
     "output_type": "stream",
     "text": [
      "Processing interviews:  91%|█████████ | 226/249 [04:22<00:26,  1.16s/it]"
     ]
    },
    {
     "name": "stdout",
     "output_type": "stream",
     "text": [
      "✔️ Finished: NBA ALL-STAR WEEKEND - February 15, 2008\n"
     ]
    },
    {
     "name": "stderr",
     "output_type": "stream",
     "text": [
      "Processing interviews:  91%|█████████ | 227/249 [04:24<00:25,  1.15s/it]"
     ]
    },
    {
     "name": "stdout",
     "output_type": "stream",
     "text": [
      "✔️ Finished: NBA FINALS: CAVALIERS v SPURS - June 14, 2007\n"
     ]
    },
    {
     "name": "stderr",
     "output_type": "stream",
     "text": [
      "Processing interviews:  92%|█████████▏| 228/249 [04:25<00:24,  1.15s/it]"
     ]
    },
    {
     "name": "stdout",
     "output_type": "stream",
     "text": [
      "✔️ Finished: NBA FINALS: CAVALIERS v SPURS - June 13, 2007\n"
     ]
    },
    {
     "name": "stderr",
     "output_type": "stream",
     "text": [
      "Processing interviews:  92%|█████████▏| 229/249 [04:26<00:23,  1.15s/it]"
     ]
    },
    {
     "name": "stdout",
     "output_type": "stream",
     "text": [
      "✔️ Finished: NBA FINALS: CAVALIERS v SPURS - June 12, 2007\n"
     ]
    },
    {
     "name": "stderr",
     "output_type": "stream",
     "text": [
      "Processing interviews:  92%|█████████▏| 230/249 [04:27<00:21,  1.15s/it]"
     ]
    },
    {
     "name": "stdout",
     "output_type": "stream",
     "text": [
      "✔️ Finished: NBA FINALS: CAVALIERS v SPURS - June 10, 2007\n"
     ]
    },
    {
     "name": "stderr",
     "output_type": "stream",
     "text": [
      "Processing interviews:  93%|█████████▎| 231/249 [04:28<00:20,  1.15s/it]"
     ]
    },
    {
     "name": "stdout",
     "output_type": "stream",
     "text": [
      "✔️ Finished: NBA FINALS: CAVALIERS v SPURS - June 9, 2007\n"
     ]
    },
    {
     "name": "stderr",
     "output_type": "stream",
     "text": [
      "Processing interviews:  93%|█████████▎| 232/249 [04:29<00:19,  1.15s/it]"
     ]
    },
    {
     "name": "stdout",
     "output_type": "stream",
     "text": [
      "✔️ Finished: NBA FINALS: CAVALIERS v SPURS - June 8, 2007\n"
     ]
    },
    {
     "name": "stderr",
     "output_type": "stream",
     "text": [
      "Processing interviews:  94%|█████████▎| 233/249 [04:30<00:18,  1.15s/it]"
     ]
    },
    {
     "name": "stdout",
     "output_type": "stream",
     "text": [
      "✔️ Finished: NBA FINALS: CAVALIERS v SPURS - June 7, 2007\n"
     ]
    },
    {
     "name": "stderr",
     "output_type": "stream",
     "text": [
      "Processing interviews:  94%|█████████▍| 234/249 [04:32<00:17,  1.15s/it]"
     ]
    },
    {
     "name": "stdout",
     "output_type": "stream",
     "text": [
      "✔️ Finished: NBA FINALS: CAVALIERS v SPURS - June 6, 2007\n"
     ]
    },
    {
     "name": "stderr",
     "output_type": "stream",
     "text": [
      "Processing interviews:  94%|█████████▍| 235/249 [04:33<00:16,  1.15s/it]"
     ]
    },
    {
     "name": "stdout",
     "output_type": "stream",
     "text": [
      "✔️ Finished: NBA EASTERN CONFERENCE FINALS: CAVALIERS v PISTONS - June 2, 2007\n"
     ]
    },
    {
     "name": "stderr",
     "output_type": "stream",
     "text": [
      "Processing interviews:  95%|█████████▍| 236/249 [04:34<00:15,  1.16s/it]"
     ]
    },
    {
     "name": "stdout",
     "output_type": "stream",
     "text": [
      "✔️ Finished: NBA EASTERN CONFERENCE FINALS: CAVALIERS v PISTONS - May 31, 2007\n"
     ]
    },
    {
     "name": "stderr",
     "output_type": "stream",
     "text": [
      "Processing interviews:  95%|█████████▌| 237/249 [04:35<00:13,  1.15s/it]"
     ]
    },
    {
     "name": "stdout",
     "output_type": "stream",
     "text": [
      "✔️ Finished: NBA EASTERN CONFERENCE FINALS: CAVALIERS v PISTONS - May 29, 2007\n"
     ]
    },
    {
     "name": "stderr",
     "output_type": "stream",
     "text": [
      "Processing interviews:  96%|█████████▌| 238/249 [04:36<00:12,  1.15s/it]"
     ]
    },
    {
     "name": "stdout",
     "output_type": "stream",
     "text": [
      "✔️ Finished: NBA EASTERN CONFERENCE FINALS: CAVALIERS v PISTONS - May 28, 2007\n"
     ]
    },
    {
     "name": "stderr",
     "output_type": "stream",
     "text": [
      "Processing interviews:  96%|█████████▌| 239/249 [04:38<00:11,  1.19s/it]"
     ]
    },
    {
     "name": "stdout",
     "output_type": "stream",
     "text": [
      "✔️ Finished: NBA EASTERN CONFERENCE FINALS: CAVALIERS v PISTONS - May 27, 2007\n"
     ]
    },
    {
     "name": "stderr",
     "output_type": "stream",
     "text": [
      "Processing interviews:  96%|█████████▋| 240/249 [04:39<00:10,  1.18s/it]"
     ]
    },
    {
     "name": "stdout",
     "output_type": "stream",
     "text": [
      "✔️ Finished: NBA EASTERN CONFERENCE FINALS: CAVALIERS v PISTONS - May 26, 2007\n"
     ]
    },
    {
     "name": "stderr",
     "output_type": "stream",
     "text": [
      "Processing interviews:  97%|█████████▋| 241/249 [04:40<00:09,  1.17s/it]"
     ]
    },
    {
     "name": "stdout",
     "output_type": "stream",
     "text": [
      "✔️ Finished: NBA EASTERN CONFERENCE FINALS: CAVALIERS v PISTONS - May 25, 2007\n"
     ]
    },
    {
     "name": "stderr",
     "output_type": "stream",
     "text": [
      "Processing interviews:  97%|█████████▋| 242/249 [04:41<00:08,  1.17s/it]"
     ]
    },
    {
     "name": "stdout",
     "output_type": "stream",
     "text": [
      "✔️ Finished: NBA EASTERN CONFERENCE FINALS: CAVALIERS v PISTONS - May 24, 2007\n"
     ]
    },
    {
     "name": "stderr",
     "output_type": "stream",
     "text": [
      "Processing interviews:  98%|█████████▊| 243/249 [04:42<00:07,  1.17s/it]"
     ]
    },
    {
     "name": "stdout",
     "output_type": "stream",
     "text": [
      "✔️ Finished: NBA EASTERN CONFERENCE FINALS: CAVALIERS v PISTONS - May 21, 2007\n"
     ]
    },
    {
     "name": "stderr",
     "output_type": "stream",
     "text": [
      "Processing interviews:  98%|█████████▊| 244/249 [04:43<00:05,  1.16s/it]"
     ]
    },
    {
     "name": "stdout",
     "output_type": "stream",
     "text": [
      "✔️ Finished: NBA ALL-STAR WEEKEND - February 18, 2007\n"
     ]
    },
    {
     "name": "stderr",
     "output_type": "stream",
     "text": [
      "Processing interviews:  98%|█████████▊| 245/249 [04:44<00:04,  1.15s/it]"
     ]
    },
    {
     "name": "stdout",
     "output_type": "stream",
     "text": [
      "✔️ Finished: NBA ALL-STAR WEEKEND - February 16, 2007\n"
     ]
    },
    {
     "name": "stderr",
     "output_type": "stream",
     "text": [
      "Processing interviews:  99%|█████████▉| 246/249 [04:46<00:03,  1.15s/it]"
     ]
    },
    {
     "name": "stdout",
     "output_type": "stream",
     "text": [
      "✔️ Finished: NBA ALL-STAR WEEKEND - February 19, 2006\n"
     ]
    },
    {
     "name": "stderr",
     "output_type": "stream",
     "text": [
      "Processing interviews:  99%|█████████▉| 247/249 [04:47<00:02,  1.15s/it]"
     ]
    },
    {
     "name": "stdout",
     "output_type": "stream",
     "text": [
      "✔️ Finished: NBA ALL-STAR WEEKEND - February 20, 2005\n"
     ]
    },
    {
     "name": "stderr",
     "output_type": "stream",
     "text": [
      "Processing interviews: 100%|█████████▉| 248/249 [04:48<00:01,  1.15s/it]"
     ]
    },
    {
     "name": "stdout",
     "output_type": "stream",
     "text": [
      "✔️ Finished: NBA ALL-STAR WEEKEND - February 18, 2005\n"
     ]
    },
    {
     "name": "stderr",
     "output_type": "stream",
     "text": [
      "Processing interviews: 100%|██████████| 249/249 [04:49<00:00,  1.16s/it]"
     ]
    },
    {
     "name": "stdout",
     "output_type": "stream",
     "text": [
      "\n",
      "✅ All transcripts saved to interviews.json\n"
     ]
    },
    {
     "name": "stderr",
     "output_type": "stream",
     "text": [
      "\n"
     ]
    }
   ],
   "source": [
    "import time\n",
    "import json\n",
    "import requests\n",
    "from lxml import html\n",
    "from urllib.parse import urljoin\n",
    "from tqdm import tqdm\n",
    "import re\n",
    "\n",
    "def fetch_all_interviews(player_url, pause=1.0):\n",
    "    resp = requests.get(player_url)\n",
    "    resp.raise_for_status()\n",
    "    tree = html.fromstring(resp.content)\n",
    "\n",
    "    # Grab interview links\n",
    "    raw_links = tree.xpath('//table[1]//tr/td[3]/b/a')[:]\n",
    "    interviews = [{\n",
    "        'title': a.text_content().strip(),\n",
    "        'url': urljoin(player_url, a.get('href').strip())\n",
    "    } for a in raw_links if a.get('href')]\n",
    "\n",
    "    results = []\n",
    "\n",
    "    for iv in tqdm(interviews, desc=\"Processing interviews\"):\n",
    "        try:\n",
    "            r = requests.get(iv['url'])\n",
    "            r.raise_for_status()\n",
    "            page = html.fromstring(r.content)\n",
    "\n",
    "            # Extract date\n",
    "            date = page.xpath('string(//h2)').strip() or \"Unknown Date\"\n",
    "            \n",
    "            questions = {}\n",
    "            answers = {}\n",
    "\n",
    "            # First attempt: Normal XPath parsing\n",
    "            container = page.xpath('//td[@valign=\"top\"]')\n",
    "            if container:\n",
    "                container = container[0]\n",
    "                question_nodes = container.xpath('.//*[contains(., \"Q.\") or starts-with(normalize-space(), \"Q.\")]')\n",
    "\n",
    "                idx = 0\n",
    "                for i, node in enumerate(question_nodes):\n",
    "                    question_text = node.text_content().replace('Â', '').replace('\\xa0', ' ').strip()\n",
    "                    if question_text.startswith('Q. '):\n",
    "                        question_text = question_text[3:].strip()\n",
    "\n",
    "                    answer_parts = []\n",
    "                    current_node = node.getnext()\n",
    "                    next_q = question_nodes[i+1] if (i+1) < len(question_nodes) else None\n",
    "\n",
    "                    while current_node is not None and current_node != next_q:\n",
    "                        if isinstance(current_node, html.HtmlElement):\n",
    "                            txt = current_node.text_content().replace('Â', '').strip()\n",
    "                            if txt and not txt.startswith('Q.'):\n",
    "                                answer_parts.append(txt)\n",
    "                        current_node = current_node.getnext()\n",
    "\n",
    "                    if not answer_parts:\n",
    "                        node_text = node.text_content().replace('Â', '').split('Q.')[-1].strip()\n",
    "                        if node_text:\n",
    "                            answer_parts.append(node_text)\n",
    "\n",
    "                    questions[str(idx)] = f\"Q. {question_text}\"\n",
    "                    answers[str(idx)] = ' '.join(answer_parts).strip()\n",
    "                    idx += 1\n",
    "\n",
    "            # Fallback: Smart recovery parsing\n",
    "            if not questions:\n",
    "                raw_text = page.xpath('//pre//text() | //td[@valign=\"top\"]//text()')\n",
    "                lines = [line.strip() for line in raw_text if line.strip()]\n",
    "\n",
    "                idx = 0\n",
    "                current_question = None\n",
    "                current_answer = []\n",
    "\n",
    "                for line in lines:\n",
    "                    if re.match(r'^Q\\.', line) or re.match(r'^[A-Z\\s]+:$', line):\n",
    "                        if current_question is not None:\n",
    "                            questions[str(idx)] = current_question\n",
    "                            answers[str(idx)] = ' '.join(current_answer).strip()\n",
    "                            idx += 1\n",
    "                            current_answer = []\n",
    "\n",
    "                        if line.startswith('Q.'):\n",
    "                            current_question = line\n",
    "                        else:\n",
    "                            current_question = line\n",
    "                    else:\n",
    "                        if current_question is not None:\n",
    "                            current_answer.append(line)\n",
    "\n",
    "                if current_question is not None:\n",
    "                    questions[str(idx)] = current_question\n",
    "                    answers[str(idx)] = ' '.join(current_answer).strip()\n",
    "\n",
    "            results.append({\n",
    "                'title': iv['title'],\n",
    "                'url': iv['url'],\n",
    "                'date': date,\n",
    "                'qa': {\n",
    "                    'questions': questions,\n",
    "                    'answers': answers\n",
    "                }\n",
    "            })\n",
    "            \n",
    "            # ✅ Optional: After each interview processed, print the title and date\n",
    "            tqdm.write(f\"✔️ Finished: {iv['title']} - {date}\")\n",
    "\n",
    "            time.sleep(pause)\n",
    "\n",
    "        except Exception as e:\n",
    "            tqdm.write(f\"❌ Failed to process {iv['url']}: {e}\")\n",
    "\n",
    "    return results\n",
    "\n",
    "if __name__ == '__main__':\n",
    "    transcripts = fetch_all_interviews('http://www.asapsports.com/show_player.php?id=13888')\n",
    "    with open('interviews.json', 'w', encoding='utf-8') as f:\n",
    "        json.dump(transcripts, f, indent=2, ensure_ascii=False)\n",
    "    print(\"\\n✅ All transcripts saved to interviews.json\")\n"
   ]
  },
  {
   "cell_type": "code",
   "execution_count": 8,
   "id": "bd60b02d",
   "metadata": {},
   "outputs": [
    {
     "name": "stdout",
     "output_type": "stream",
     "text": [
      "✅ Fixed interviews saved to interviews.json (last name speaker format)\n"
     ]
    }
   ],
   "source": [
    "import json\n",
    "import re\n",
    "\n",
    "# Load the original interviews.json\n",
    "with open('interviews.json', 'r', encoding='utf-8') as f:\n",
    "    data = json.load(f)\n",
    "\n",
    "def split_q_and_a(full_text):\n",
    "    \"\"\"Split a block into (question, answer) based on first ALL CAPS speaker (keep only last name).\"\"\"\n",
    "    match = re.search(r'([A-Z][A-Z\\s]+?):', full_text)\n",
    "    if match:\n",
    "        speaker_full = match.group(1)  # e.g., \"LEBRON JAMES\"\n",
    "        split_idx = match.start()\n",
    "        question = full_text[:split_idx].strip()\n",
    "        answer = full_text[split_idx:].strip()\n",
    "\n",
    "        # Extract only last word (last name)\n",
    "        last_name = speaker_full.strip().split()[-1]\n",
    "        answer = re.sub(re.escape(speaker_full + ':'), last_name + ':', answer, count=1)\n",
    "    else:\n",
    "        # fallback: no speaker found\n",
    "        question = full_text.strip()\n",
    "        answer = \"\"\n",
    "    return question, answer\n",
    "\n",
    "# Go through each interview\n",
    "for interview in data:\n",
    "    questions = interview['qa']['questions']\n",
    "    answers = interview['qa']['answers']\n",
    "\n",
    "    # Check if the questions are all just \"Q.\"\n",
    "    if all(q.strip() == \"Q.\" for q in questions.values()):\n",
    "        new_questions = {}\n",
    "        new_answers = {}\n",
    "\n",
    "        for idx, full_text in answers.items():\n",
    "            if full_text.strip():\n",
    "                question_part, answer_part = split_q_and_a(full_text)\n",
    "                new_questions[idx] = f\"Q. {question_part}\"\n",
    "                new_answers[idx] = answer_part\n",
    "            else:\n",
    "                new_questions[idx] = \"Q.\"\n",
    "                new_answers[idx] = \"\"\n",
    "\n",
    "        # Update the interview entry\n",
    "        interview['qa']['questions'] = new_questions\n",
    "        interview['qa']['answers'] = new_answers\n",
    "\n",
    "# Save back into interviews.json\n",
    "with open('interviews.json', 'w', encoding='utf-8') as f:\n",
    "    json.dump(data, f, indent=2, ensure_ascii=False)\n",
    "\n",
    "print(\"✅ Fixed interviews saved to interviews.json (last name speaker format)\")\n"
   ]
  },
  {
   "cell_type": "code",
   "execution_count": null,
   "id": "b54d6213",
   "metadata": {},
   "outputs": [],
   "source": []
  }
 ],
 "metadata": {
  "kernelspec": {
   "display_name": "ml_hw4",
   "language": "python",
   "name": "python3"
  },
  "language_info": {
   "codemirror_mode": {
    "name": "ipython",
    "version": 3
   },
   "file_extension": ".py",
   "mimetype": "text/x-python",
   "name": "python",
   "nbconvert_exporter": "python",
   "pygments_lexer": "ipython3",
   "version": "3.11.10"
  }
 },
 "nbformat": 4,
 "nbformat_minor": 5
}
