{
 "cells": [
  {
   "cell_type": "markdown",
   "id": "35f501ef",
   "metadata": {},
   "source": [
    "# GameStats2Text: Main Training Notebook\n",
    "\n",
    "This notebook implements the end-to-end pipeline for the GameStats2Text model:\n",
    "\n",
    "1. Load and preprocess the dataset\n",
    "2. Split into train/validation/test sets (75/20/5)\n",
    "3. Set up PyTorch data loaders\n",
    "4. Initialize model components\n",
    "5. Train the model\n",
    "6. Evaluate performance\n",
    "7. Generate example outputs"
   ]
  },
  {
   "cell_type": "code",
   "execution_count": 1,
   "id": "9a042df1",
   "metadata": {},
   "outputs": [
    {
     "name": "stderr",
     "output_type": "stream",
     "text": [
      "/opt/anaconda3/envs/nlp-proj/lib/python3.12/site-packages/tqdm/auto.py:21: TqdmWarning: IProgress not found. Please update jupyter and ipywidgets. See https://ipywidgets.readthedocs.io/en/stable/user_install.html\n",
      "  from .autonotebook import tqdm as notebook_tqdm\n"
     ]
    },
    {
     "name": "stdout",
     "output_type": "stream",
     "text": [
      "Using device: cpu\n"
     ]
    }
   ],
   "source": [
    "# Import libraries\n",
    "import os\n",
    "import pandas as pd\n",
    "import numpy as np\n",
    "import torch\n",
    "import torch.nn as nn\n",
    "import torch.optim as optim\n",
    "from torch.utils.data import DataLoader, random_split\n",
    "from transformers import GPT2Tokenizer, get_linear_schedule_with_warmup\n",
    "from tqdm.notebook import tqdm\n",
    "import matplotlib.pyplot as plt\n",
    "from sklearn.metrics import mean_squared_error\n",
    "import random\n",
    "import json\n",
    "from datetime import datetime\n",
    "\n",
    "# Import project modules\n",
    "from src.process.stats_encoder import StatsEncoder\n",
    "from src.models.encoder import GameStats2TextModel\n",
    "from src.models.generator import GameStats2TextGenerator\n",
    "from src.process.setupData import GameStatsTextDataset, collate_fn\n",
    "\n",
    "# Set seed for reproducibility\n",
    "def set_seed(seed=42):\n",
    "    random.seed(seed)\n",
    "    np.random.seed(seed)\n",
    "    torch.manual_seed(seed)\n",
    "    torch.cuda.manual_seed_all(seed)\n",
    "    torch.backends.cudnn.deterministic = True\n",
    "    torch.backends.cudnn.benchmark = False\n",
    "\n",
    "set_seed()\n",
    "\n",
    "# Check if CUDA is available\n",
    "device = torch.device(\"cuda\" if torch.cuda.is_available() else \"cpu\")\n",
    "print(f\"Using device: {device}\")"
   ]
  },
  {
   "cell_type": "markdown",
   "id": "6e9e9a8a",
   "metadata": {},
   "source": [
    "## 1. Load and Explore Dataset"
   ]
  },
  {
   "cell_type": "code",
   "execution_count": 2,
   "id": "7febe7d8",
   "metadata": {},
   "outputs": [
    {
     "name": "stdout",
     "output_type": "stream",
     "text": [
      "Dataset shape: (1193, 13)\n",
      "\n",
      "Column names:\n",
      "['date', 'MP', 'PTS', 'FG%', 'TRB', 'AST', 'STL', 'BLK', 'TOV', 'PF', 'Result', 'question', 'answer']\n",
      "\n",
      "Sample data:\n"
     ]
    },
    {
     "data": {
      "text/html": [
       "<div>\n",
       "<style scoped>\n",
       "    .dataframe tbody tr th:only-of-type {\n",
       "        vertical-align: middle;\n",
       "    }\n",
       "\n",
       "    .dataframe tbody tr th {\n",
       "        vertical-align: top;\n",
       "    }\n",
       "\n",
       "    .dataframe thead th {\n",
       "        text-align: right;\n",
       "    }\n",
       "</style>\n",
       "<table border=\"1\" class=\"dataframe\">\n",
       "  <thead>\n",
       "    <tr style=\"text-align: right;\">\n",
       "      <th></th>\n",
       "      <th>date</th>\n",
       "      <th>MP</th>\n",
       "      <th>PTS</th>\n",
       "      <th>FG%</th>\n",
       "      <th>TRB</th>\n",
       "      <th>AST</th>\n",
       "      <th>STL</th>\n",
       "      <th>BLK</th>\n",
       "      <th>TOV</th>\n",
       "      <th>PF</th>\n",
       "      <th>Result</th>\n",
       "      <th>question</th>\n",
       "      <th>answer</th>\n",
       "    </tr>\n",
       "  </thead>\n",
       "  <tbody>\n",
       "    <tr>\n",
       "      <th>0</th>\n",
       "      <td>2007-05-21</td>\n",
       "      <td>45:22</td>\n",
       "      <td>10.0</td>\n",
       "      <td>0.333</td>\n",
       "      <td>10.0</td>\n",
       "      <td>9.0</td>\n",
       "      <td>4.0</td>\n",
       "      <td>1.0</td>\n",
       "      <td>2.0</td>\n",
       "      <td>1.0</td>\n",
       "      <td>0</td>\n",
       "      <td>I know you say that you're a football player, ...</td>\n",
       "      <td>(Laughing) It was definitely a physical game t...</td>\n",
       "    </tr>\n",
       "    <tr>\n",
       "      <th>1</th>\n",
       "      <td>2007-05-21</td>\n",
       "      <td>45:22</td>\n",
       "      <td>10.0</td>\n",
       "      <td>0.333</td>\n",
       "      <td>10.0</td>\n",
       "      <td>9.0</td>\n",
       "      <td>4.0</td>\n",
       "      <td>1.0</td>\n",
       "      <td>2.0</td>\n",
       "      <td>1.0</td>\n",
       "      <td>0</td>\n",
       "      <td>The last play there, Coach said that was kind ...</td>\n",
       "      <td>No, I go for the winning play.  If two guys co...</td>\n",
       "    </tr>\n",
       "    <tr>\n",
       "      <th>2</th>\n",
       "      <td>2007-05-21</td>\n",
       "      <td>45:22</td>\n",
       "      <td>10.0</td>\n",
       "      <td>0.333</td>\n",
       "      <td>10.0</td>\n",
       "      <td>9.0</td>\n",
       "      <td>4.0</td>\n",
       "      <td>1.0</td>\n",
       "      <td>2.0</td>\n",
       "      <td>1.0</td>\n",
       "      <td>0</td>\n",
       "      <td>As a franchise player, how do you justify only...</td>\n",
       "      <td>No, you've just got to take what's there.  It'...</td>\n",
       "    </tr>\n",
       "    <tr>\n",
       "      <th>3</th>\n",
       "      <td>2007-05-21</td>\n",
       "      <td>45:22</td>\n",
       "      <td>10.0</td>\n",
       "      <td>0.333</td>\n",
       "      <td>10.0</td>\n",
       "      <td>9.0</td>\n",
       "      <td>4.0</td>\n",
       "      <td>1.0</td>\n",
       "      <td>2.0</td>\n",
       "      <td>1.0</td>\n",
       "      <td>0</td>\n",
       "      <td>Coach said that a couple of adjustments need t...</td>\n",
       "      <td>We definitely played pretty well.  Both teams ...</td>\n",
       "    </tr>\n",
       "    <tr>\n",
       "      <th>4</th>\n",
       "      <td>2007-05-21</td>\n",
       "      <td>45:22</td>\n",
       "      <td>10.0</td>\n",
       "      <td>0.333</td>\n",
       "      <td>10.0</td>\n",
       "      <td>9.0</td>\n",
       "      <td>4.0</td>\n",
       "      <td>1.0</td>\n",
       "      <td>2.0</td>\n",
       "      <td>1.0</td>\n",
       "      <td>0</td>\n",
       "      <td>Third quarter, again, you guys fell behind 7-0...</td>\n",
       "      <td>Not sure.  It's just something that we've got ...</td>\n",
       "    </tr>\n",
       "  </tbody>\n",
       "</table>\n",
       "</div>"
      ],
      "text/plain": [
       "         date     MP   PTS    FG%   TRB  AST  STL  BLK  TOV   PF  Result  \\\n",
       "0  2007-05-21  45:22  10.0  0.333  10.0  9.0  4.0  1.0  2.0  1.0       0   \n",
       "1  2007-05-21  45:22  10.0  0.333  10.0  9.0  4.0  1.0  2.0  1.0       0   \n",
       "2  2007-05-21  45:22  10.0  0.333  10.0  9.0  4.0  1.0  2.0  1.0       0   \n",
       "3  2007-05-21  45:22  10.0  0.333  10.0  9.0  4.0  1.0  2.0  1.0       0   \n",
       "4  2007-05-21  45:22  10.0  0.333  10.0  9.0  4.0  1.0  2.0  1.0       0   \n",
       "\n",
       "                                            question  \\\n",
       "0  I know you say that you're a football player, ...   \n",
       "1  The last play there, Coach said that was kind ...   \n",
       "2  As a franchise player, how do you justify only...   \n",
       "3  Coach said that a couple of adjustments need t...   \n",
       "4  Third quarter, again, you guys fell behind 7-0...   \n",
       "\n",
       "                                              answer  \n",
       "0  (Laughing) It was definitely a physical game t...  \n",
       "1  No, I go for the winning play.  If two guys co...  \n",
       "2  No, you've just got to take what's there.  It'...  \n",
       "3  We definitely played pretty well.  Both teams ...  \n",
       "4  Not sure.  It's just something that we've got ...  "
      ]
     },
     "execution_count": 2,
     "metadata": {},
     "output_type": "execute_result"
    }
   ],
   "source": [
    "# Load the dataset\n",
    "data_path = 'data/dataset.csv'\n",
    "df = pd.read_csv(data_path)\n",
    "\n",
    "# Display basic info\n",
    "print(f\"Dataset shape: {df.shape}\")\n",
    "print(\"\\nColumn names:\")\n",
    "print(df.columns.tolist())\n",
    "print(\"\\nSample data:\")\n",
    "df.head()"
   ]
  },
  {
   "cell_type": "code",
   "execution_count": 3,
   "id": "f63b2b3c",
   "metadata": {},
   "outputs": [
    {
     "name": "stdout",
     "output_type": "stream",
     "text": [
      "Statistical summary of numeric columns:\n"
     ]
    },
    {
     "data": {
      "text/html": [
       "<div>\n",
       "<style scoped>\n",
       "    .dataframe tbody tr th:only-of-type {\n",
       "        vertical-align: middle;\n",
       "    }\n",
       "\n",
       "    .dataframe tbody tr th {\n",
       "        vertical-align: top;\n",
       "    }\n",
       "\n",
       "    .dataframe thead th {\n",
       "        text-align: right;\n",
       "    }\n",
       "</style>\n",
       "<table border=\"1\" class=\"dataframe\">\n",
       "  <thead>\n",
       "    <tr style=\"text-align: right;\">\n",
       "      <th></th>\n",
       "      <th>PTS</th>\n",
       "      <th>FG%</th>\n",
       "      <th>TRB</th>\n",
       "      <th>AST</th>\n",
       "      <th>STL</th>\n",
       "      <th>BLK</th>\n",
       "      <th>TOV</th>\n",
       "      <th>PF</th>\n",
       "      <th>Result</th>\n",
       "    </tr>\n",
       "  </thead>\n",
       "  <tbody>\n",
       "    <tr>\n",
       "      <th>count</th>\n",
       "      <td>1193.000000</td>\n",
       "      <td>1193.000000</td>\n",
       "      <td>1193.000000</td>\n",
       "      <td>1193.000000</td>\n",
       "      <td>1193.000000</td>\n",
       "      <td>1193.000000</td>\n",
       "      <td>1193.000000</td>\n",
       "      <td>1193.000000</td>\n",
       "      <td>1193.000000</td>\n",
       "    </tr>\n",
       "    <tr>\n",
       "      <th>mean</th>\n",
       "      <td>29.678122</td>\n",
       "      <td>0.499261</td>\n",
       "      <td>9.590947</td>\n",
       "      <td>7.499581</td>\n",
       "      <td>1.554065</td>\n",
       "      <td>0.953898</td>\n",
       "      <td>3.714166</td>\n",
       "      <td>2.433361</td>\n",
       "      <td>0.539816</td>\n",
       "    </tr>\n",
       "    <tr>\n",
       "      <th>std</th>\n",
       "      <td>8.878770</td>\n",
       "      <td>0.111476</td>\n",
       "      <td>3.377579</td>\n",
       "      <td>2.790842</td>\n",
       "      <td>1.191681</td>\n",
       "      <td>1.012698</td>\n",
       "      <td>1.956218</td>\n",
       "      <td>1.292386</td>\n",
       "      <td>0.498621</td>\n",
       "    </tr>\n",
       "    <tr>\n",
       "      <th>min</th>\n",
       "      <td>7.000000</td>\n",
       "      <td>0.200000</td>\n",
       "      <td>2.000000</td>\n",
       "      <td>2.000000</td>\n",
       "      <td>0.000000</td>\n",
       "      <td>0.000000</td>\n",
       "      <td>0.000000</td>\n",
       "      <td>0.000000</td>\n",
       "      <td>0.000000</td>\n",
       "    </tr>\n",
       "    <tr>\n",
       "      <th>25%</th>\n",
       "      <td>24.000000</td>\n",
       "      <td>0.429000</td>\n",
       "      <td>7.000000</td>\n",
       "      <td>5.000000</td>\n",
       "      <td>1.000000</td>\n",
       "      <td>0.000000</td>\n",
       "      <td>2.000000</td>\n",
       "      <td>2.000000</td>\n",
       "      <td>0.000000</td>\n",
       "    </tr>\n",
       "    <tr>\n",
       "      <th>50%</th>\n",
       "      <td>29.000000</td>\n",
       "      <td>0.500000</td>\n",
       "      <td>9.000000</td>\n",
       "      <td>8.000000</td>\n",
       "      <td>2.000000</td>\n",
       "      <td>1.000000</td>\n",
       "      <td>4.000000</td>\n",
       "      <td>2.000000</td>\n",
       "      <td>1.000000</td>\n",
       "    </tr>\n",
       "    <tr>\n",
       "      <th>75%</th>\n",
       "      <td>35.000000</td>\n",
       "      <td>0.588000</td>\n",
       "      <td>12.000000</td>\n",
       "      <td>9.000000</td>\n",
       "      <td>2.000000</td>\n",
       "      <td>2.000000</td>\n",
       "      <td>5.000000</td>\n",
       "      <td>3.000000</td>\n",
       "      <td>1.000000</td>\n",
       "    </tr>\n",
       "    <tr>\n",
       "      <th>max</th>\n",
       "      <td>51.000000</td>\n",
       "      <td>0.846000</td>\n",
       "      <td>18.000000</td>\n",
       "      <td>13.000000</td>\n",
       "      <td>5.000000</td>\n",
       "      <td>3.000000</td>\n",
       "      <td>8.000000</td>\n",
       "      <td>6.000000</td>\n",
       "      <td>1.000000</td>\n",
       "    </tr>\n",
       "  </tbody>\n",
       "</table>\n",
       "</div>"
      ],
      "text/plain": [
       "               PTS          FG%          TRB          AST          STL  \\\n",
       "count  1193.000000  1193.000000  1193.000000  1193.000000  1193.000000   \n",
       "mean     29.678122     0.499261     9.590947     7.499581     1.554065   \n",
       "std       8.878770     0.111476     3.377579     2.790842     1.191681   \n",
       "min       7.000000     0.200000     2.000000     2.000000     0.000000   \n",
       "25%      24.000000     0.429000     7.000000     5.000000     1.000000   \n",
       "50%      29.000000     0.500000     9.000000     8.000000     2.000000   \n",
       "75%      35.000000     0.588000    12.000000     9.000000     2.000000   \n",
       "max      51.000000     0.846000    18.000000    13.000000     5.000000   \n",
       "\n",
       "               BLK          TOV           PF       Result  \n",
       "count  1193.000000  1193.000000  1193.000000  1193.000000  \n",
       "mean      0.953898     3.714166     2.433361     0.539816  \n",
       "std       1.012698     1.956218     1.292386     0.498621  \n",
       "min       0.000000     0.000000     0.000000     0.000000  \n",
       "25%       0.000000     2.000000     2.000000     0.000000  \n",
       "50%       1.000000     4.000000     2.000000     1.000000  \n",
       "75%       2.000000     5.000000     3.000000     1.000000  \n",
       "max       3.000000     8.000000     6.000000     1.000000  "
      ]
     },
     "execution_count": 3,
     "metadata": {},
     "output_type": "execute_result"
    }
   ],
   "source": [
    "# Display statistical summary\n",
    "print(\"Statistical summary of numeric columns:\")\n",
    "df.describe()"
   ]
  },
  {
   "cell_type": "code",
   "execution_count": 4,
   "id": "315e6b6e",
   "metadata": {},
   "outputs": [
    {
     "name": "stdout",
     "output_type": "stream",
     "text": [
      "Missing values per column:\n"
     ]
    },
    {
     "data": {
      "text/plain": [
       "date        0\n",
       "MP          0\n",
       "PTS         0\n",
       "FG%         0\n",
       "TRB         0\n",
       "AST         0\n",
       "STL         0\n",
       "BLK         0\n",
       "TOV         0\n",
       "PF          0\n",
       "Result      0\n",
       "question    0\n",
       "answer      0\n",
       "dtype: int64"
      ]
     },
     "execution_count": 4,
     "metadata": {},
     "output_type": "execute_result"
    }
   ],
   "source": [
    "# Check for missing values\n",
    "print(\"Missing values per column:\")\n",
    "df.isnull().sum()"
   ]
  },
  {
   "cell_type": "markdown",
   "id": "cbf79f7e",
   "metadata": {},
   "source": [
    "## 2. Data Preparation and Splitting"
   ]
  },
  {
   "cell_type": "code",
   "execution_count": 5,
   "id": "9d927cc0",
   "metadata": {},
   "outputs": [],
   "source": [
    "# Convert 'MP' (minutes played) from \"MM:SS\" to float minutes if needed\n",
    "if 'MP' in df.columns and df['MP'].dtype == 'object':\n",
    "    df['MP'] = df['MP'].apply(lambda x: float(str(x).split(':')[0]) + float(str(x).split(':')[1]) / 60.0 if ':' in str(x) else float(x))\n",
    "\n",
    "# Make sure all feature columns are numeric\n",
    "feature_cols = [c for c in df.columns if c not in ['date', 'question', 'answer']]\n",
    "df[feature_cols] = df[feature_cols].apply(pd.to_numeric, errors='coerce')\n",
    "\n",
    "# Drop rows with NaN values if any\n",
    "if df.isnull().sum().sum() > 0:\n",
    "    print(f\"Dropping {df.isnull().any(axis=1).sum()} rows with NaN values\")\n",
    "    df = df.dropna()\n",
    "    print(f\"New dataset shape: {df.shape}\")"
   ]
  },
  {
   "cell_type": "code",
   "execution_count": 6,
   "id": "84f5fcb9",
   "metadata": {},
   "outputs": [
    {
     "name": "stderr",
     "output_type": "stream",
     "text": [
      "/opt/anaconda3/envs/nlp-proj/lib/python3.12/site-packages/transformers/tokenization_utils_base.py:3980: UserWarning: `as_target_tokenizer` is deprecated and will be removed in v5 of Transformers. You can tokenize your labels by using the argument `text_target` of the regular `__call__` method (either in the same call as your input texts if you use the same keyword arguments, or in a separate call.\n",
      "  warnings.warn(\n"
     ]
    }
   ],
   "source": [
    "# Create the full dataset\n",
    "tokenizer_name = 'gpt2'\n",
    "max_length = 256\n",
    "\n",
    "full_dataset = GameStatsTextDataset(\n",
    "    csv_file=data_path,\n",
    "    tokenizer_name=tokenizer_name,\n",
    "    max_length=max_length\n",
    ")\n",
    "\n",
    "# Get the tokenizer\n",
    "tokenizer = GPT2Tokenizer.from_pretrained(tokenizer_name)\n",
    "if tokenizer.pad_token is None:\n",
    "    tokenizer.pad_token = tokenizer.eos_token"
   ]
  },
  {
   "cell_type": "code",
   "execution_count": 7,
   "id": "8b52df99",
   "metadata": {},
   "outputs": [
    {
     "name": "stdout",
     "output_type": "stream",
     "text": [
      "Total dataset size: 1193\n",
      "Training set size: 894\n",
      "Validation set size: 238\n",
      "Test set size: 61\n"
     ]
    }
   ],
   "source": [
    "# Get dataset size and calculate split sizes\n",
    "dataset_size = len(full_dataset)\n",
    "train_size = int(0.75 * dataset_size)\n",
    "val_size = int(0.20 * dataset_size)\n",
    "test_size = dataset_size - train_size - val_size\n",
    "\n",
    "print(f\"Total dataset size: {dataset_size}\")\n",
    "print(f\"Training set size: {train_size}\")\n",
    "print(f\"Validation set size: {val_size}\")\n",
    "print(f\"Test set size: {test_size}\")\n",
    "\n",
    "# Split the dataset\n",
    "train_dataset, val_dataset, test_dataset = random_split(\n",
    "    full_dataset, [train_size, val_size, test_size],\n",
    "    generator=torch.Generator().manual_seed(42)\n",
    ")"
   ]
  },
  {
   "cell_type": "code",
   "execution_count": 8,
   "id": "35a01db1",
   "metadata": {},
   "outputs": [],
   "source": [
    "# Create data loaders\n",
    "batch_size = 16\n",
    "\n",
    "train_loader = DataLoader(\n",
    "    train_dataset, \n",
    "    batch_size=batch_size, \n",
    "    shuffle=True, \n",
    "    collate_fn=collate_fn,\n",
    "    num_workers=2\n",
    ")\n",
    "\n",
    "val_loader = DataLoader(\n",
    "    val_dataset, \n",
    "    batch_size=batch_size, \n",
    "    shuffle=False, \n",
    "    collate_fn=collate_fn,\n",
    "    num_workers=2\n",
    ")\n",
    "\n",
    "test_loader = DataLoader(\n",
    "    test_dataset, \n",
    "    batch_size=batch_size, \n",
    "    shuffle=False, \n",
    "    collate_fn=collate_fn,\n",
    "    num_workers=2\n",
    ")"
   ]
  },
  {
   "cell_type": "code",
   "execution_count": 9,
   "id": "19311a7d",
   "metadata": {},
   "outputs": [
    {
     "name": "stdout",
     "output_type": "stream",
     "text": [
      "Sample batch shapes:\n",
      "stats: torch.Size([16, 10])\n",
      "input_ids: torch.Size([16, 256])\n",
      "attention_mask: torch.Size([16, 256])\n",
      "labels: torch.Size([16, 256])\n",
      "\n",
      "Sample question: As far as Chris, we know he hurt his ankle the other night  He says it's been just not happening for him the entire series, and he's not sure why  Any thoughts on Chris?\n",
      "Sample answer: I mean, we can state the obvious; they're both struggling  Chris is struggling with his shot, and him hurting his ankle didn't help him a lot as well  I think he will find it  He will find it  It's my job as a leader to keep him motivated, to let him know how important he is to our movement, to our chances of returning to The Finals. The best thing about this opportunity is right here we worked all season long to get home‑court advantage  If we ever had an opportunity or we put ourselves in position where we weren't taking care of business on the road, we always have one more to fall back on at home  This is the position we're in and those guys as professionals, as champions, we'll figure it out  And me as the leader, I'll have to help them figure it out.\n",
      "Sample stats: tensor([42.2833, 29.0000,  0.4760,  7.0000,  6.0000,  2.0000,  1.0000,  4.0000,\n",
      "         2.0000,  0.0000])\n"
     ]
    }
   ],
   "source": [
    "# Check a batch from the training loader\n",
    "sample_batch = next(iter(train_loader))\n",
    "print(\"Sample batch shapes:\")\n",
    "for k, v in sample_batch.items():\n",
    "    print(f\"{k}: {v.shape}\")\n",
    "\n",
    "# Decode a sample to verify data is loaded correctly\n",
    "sample_idx = 0\n",
    "sample_question = tokenizer.decode(sample_batch['input_ids'][sample_idx], skip_special_tokens=True)\n",
    "sample_answer = tokenizer.decode(sample_batch['labels'][sample_idx], skip_special_tokens=True)\n",
    "print(f\"\\nSample question: {sample_question}\")\n",
    "print(f\"Sample answer: {sample_answer}\")\n",
    "print(f\"Sample stats: {sample_batch['stats'][sample_idx]}\")"
   ]
  },
  {
   "cell_type": "markdown",
   "id": "797830d8",
   "metadata": {},
   "source": [
    "## 3. Model Configuration"
   ]
  },
  {
   "cell_type": "code",
   "execution_count": null,
   "id": "45282937",
   "metadata": {},
   "outputs": [
    {
     "name": "stdout",
     "output_type": "stream",
     "text": [
      "Stats input dimension: 10\n"
     ]
    }
   ],
   "source": [
    "# Get stats input dimension from the dataset\n",
    "stats_input_dim = full_dataset.stats.shape[1]\n",
    "print(f\"Stats input dimension: {stats_input_dim}\")\n",
    "\n",
    "# Model hyperparameters\n",
    "stats_hidden_dims = [128, 64]\n",
    "stats_output_dim = 32\n",
    "gpt_model_name = 'gpt2'\n",
    "fusion_method = 'add'  # 'concat' or 'add'"
   ]
  },
  {
   "cell_type": "code",
   "execution_count": 11,
   "id": "638c932f",
   "metadata": {},
   "outputs": [
    {
     "name": "stdout",
     "output_type": "stream",
     "text": [
      "GameStats2TextGenerator(\n",
      "  (stats_encoder): StatsEncoder(\n",
      "    (encoder): Sequential(\n",
      "      (0): Linear(in_features=10, out_features=128, bias=True)\n",
      "      (1): ReLU(inplace=True)\n",
      "      (2): Dropout(p=0.1, inplace=False)\n",
      "      (3): Linear(in_features=128, out_features=64, bias=True)\n",
      "      (4): ReLU(inplace=True)\n",
      "      (5): Dropout(p=0.1, inplace=False)\n",
      "      (6): Linear(in_features=64, out_features=32, bias=True)\n",
      "    )\n",
      "  )\n",
      "  (gpt2): GPT2LMHeadModel(\n",
      "    (transformer): GPT2Model(\n",
      "      (wte): Embedding(50257, 768)\n",
      "      (wpe): Embedding(1024, 768)\n",
      "      (drop): Dropout(p=0.1, inplace=False)\n",
      "      (h): ModuleList(\n",
      "        (0-11): 12 x GPT2Block(\n",
      "          (ln_1): LayerNorm((768,), eps=1e-05, elementwise_affine=True)\n",
      "          (attn): GPT2Attention(\n",
      "            (c_attn): Conv1D(nf=2304, nx=768)\n",
      "            (c_proj): Conv1D(nf=768, nx=768)\n",
      "            (attn_dropout): Dropout(p=0.1, inplace=False)\n",
      "            (resid_dropout): Dropout(p=0.1, inplace=False)\n",
      "          )\n",
      "          (ln_2): LayerNorm((768,), eps=1e-05, elementwise_affine=True)\n",
      "          (mlp): GPT2MLP(\n",
      "            (c_fc): Conv1D(nf=3072, nx=768)\n",
      "            (c_proj): Conv1D(nf=768, nx=3072)\n",
      "            (act): NewGELUActivation()\n",
      "            (dropout): Dropout(p=0.1, inplace=False)\n",
      "          )\n",
      "        )\n",
      "      )\n",
      "      (ln_f): LayerNorm((768,), eps=1e-05, elementwise_affine=True)\n",
      "    )\n",
      "    (lm_head): Linear(in_features=768, out_features=50257, bias=False)\n",
      "  )\n",
      "  (proj): Linear(in_features=800, out_features=768, bias=True)\n",
      ")\n",
      "Total parameters: 125066720\n"
     ]
    }
   ],
   "source": [
    "# Initialize the generator model\n",
    "model = GameStats2TextGenerator(\n",
    "    stats_input_dim=stats_input_dim,\n",
    "    stats_hidden_dims=stats_hidden_dims,\n",
    "    stats_output_dim=stats_output_dim,\n",
    "    gpt_model_name=gpt_model_name,\n",
    "    fusion_method=fusion_method\n",
    ")\n",
    "\n",
    "# Move model to device\n",
    "model = model.to(device)\n",
    "\n",
    "# Display model summary\n",
    "print(model)\n",
    "print(f\"Total parameters: {sum(p.numel() for p in model.parameters())}\")"
   ]
  },
  {
   "cell_type": "markdown",
   "id": "ccfa150d",
   "metadata": {},
   "source": [
    "## 4. Training Configuration"
   ]
  },
  {
   "cell_type": "code",
   "execution_count": 12,
   "id": "f46413a4",
   "metadata": {},
   "outputs": [],
   "source": [
    "# Training hyperparameters\n",
    "num_epochs = 5\n",
    "learning_rate = 5e-5\n",
    "weight_decay = 0.01\n",
    "warmup_steps = 100\n",
    "max_grad_norm = 1.0\n",
    "\n",
    "# Initialize optimizer\n",
    "optimizer = optim.AdamW(model.parameters(), lr=learning_rate, weight_decay=weight_decay)\n",
    "\n",
    "# Learning rate scheduler\n",
    "total_steps = len(train_loader) * num_epochs\n",
    "scheduler = get_linear_schedule_with_warmup(\n",
    "    optimizer, \n",
    "    num_warmup_steps=warmup_steps, \n",
    "    num_training_steps=total_steps\n",
    ")"
   ]
  },
  {
   "cell_type": "markdown",
   "id": "b0c9d5b9",
   "metadata": {},
   "source": [
    "## 5. Training Loop"
   ]
  },
  {
   "cell_type": "code",
   "execution_count": 13,
   "id": "d52be46d",
   "metadata": {},
   "outputs": [],
   "source": [
    "# Training and validation functions\n",
    "def train_epoch(model, dataloader, optimizer, scheduler, device):\n",
    "    model.train()\n",
    "    epoch_loss = 0\n",
    "\n",
    "    from tqdm import tqdm as std_tqdm\n",
    "    progress_bar = std_tqdm(dataloader, desc=\"Training\")\n",
    "    \n",
    "    for batch in progress_bar:\n",
    "        # Move batch to device\n",
    "        stats = batch['stats'].to(device)\n",
    "        input_ids = batch['input_ids'].to(device)\n",
    "        attention_mask = batch['attention_mask'].to(device)\n",
    "        labels = batch['labels'].to(device)\n",
    "        \n",
    "        # Replace padding token id with -100 so it's ignored in loss computation\n",
    "        labels = torch.where(labels == tokenizer.pad_token_id, -100, labels)\n",
    "        \n",
    "        # Forward pass\n",
    "        outputs = model(\n",
    "            stats=stats,\n",
    "            input_ids=input_ids,\n",
    "            attention_mask=attention_mask,\n",
    "            labels=labels\n",
    "        )\n",
    "        \n",
    "        loss = outputs.loss\n",
    "        \n",
    "        # Backward pass\n",
    "        optimizer.zero_grad()\n",
    "        loss.backward()\n",
    "        torch.nn.utils.clip_grad_norm_(model.parameters(), max_grad_norm)\n",
    "        optimizer.step()\n",
    "        scheduler.step()\n",
    "        \n",
    "        # Update progress bar\n",
    "        progress_bar.set_postfix({\"loss\": loss.item()})\n",
    "        epoch_loss += loss.item()\n",
    "        \n",
    "    return epoch_loss / len(dataloader)\n",
    "\n",
    "def evaluate(model, dataloader, device):\n",
    "    model.eval()\n",
    "    epoch_loss = 0\n",
    "    \n",
    "    # Use standard tqdm here too\n",
    "    from tqdm import tqdm as std_tqdm\n",
    "    \n",
    "    with torch.no_grad():\n",
    "        for batch in std_tqdm(dataloader, desc=\"Evaluating\"):\n",
    "            # Move batch to device\n",
    "            stats = batch['stats'].to(device)\n",
    "            input_ids = batch['input_ids'].to(device)\n",
    "            attention_mask = batch['attention_mask'].to(device)\n",
    "            labels = batch['labels'].to(device)\n",
    "            \n",
    "            # Replace padding token id with -100\n",
    "            labels = torch.where(labels == tokenizer.pad_token_id, -100, labels)\n",
    "            \n",
    "            # Forward pass\n",
    "            outputs = model(\n",
    "                stats=stats,\n",
    "                input_ids=input_ids,\n",
    "                attention_mask=attention_mask,\n",
    "                labels=labels\n",
    "            )\n",
    "            \n",
    "            loss = outputs.loss\n",
    "            epoch_loss += loss.item()\n",
    "            \n",
    "    return epoch_loss / len(dataloader)"
   ]
  },
  {
   "cell_type": "code",
   "execution_count": 14,
   "id": "d5ea8756",
   "metadata": {},
   "outputs": [
    {
     "name": "stdout",
     "output_type": "stream",
     "text": [
      "Starting training...\n",
      "\n",
      "Epoch 1/5\n"
     ]
    },
    {
     "name": "stderr",
     "output_type": "stream",
     "text": [
      "Training:   0%|          | 0/56 [00:00<?, ?it/s]`loss_type=None` was set in the config but it is unrecognised.Using the default loss: `ForCausalLMLoss`.\n",
      "Training: 100%|██████████| 56/56 [04:54<00:00,  5.26s/it, loss=6.07]\n",
      "Evaluating: 100%|██████████| 15/15 [00:21<00:00,  1.45s/it]\n"
     ]
    },
    {
     "name": "stdout",
     "output_type": "stream",
     "text": [
      "Train loss: 6.6974, Validation loss: 6.0950\n",
      "Model saved to best_model.pt\n",
      "\n",
      "Epoch 2/5\n"
     ]
    },
    {
     "name": "stderr",
     "output_type": "stream",
     "text": [
      "Training: 100%|██████████| 56/56 [04:53<00:00,  5.24s/it, loss=5.88]\n",
      "Evaluating: 100%|██████████| 15/15 [00:21<00:00,  1.46s/it]\n"
     ]
    },
    {
     "name": "stdout",
     "output_type": "stream",
     "text": [
      "Train loss: 6.0013, Validation loss: 5.9356\n",
      "Model saved to best_model.pt\n",
      "\n",
      "Epoch 3/5\n"
     ]
    },
    {
     "name": "stderr",
     "output_type": "stream",
     "text": [
      "Training: 100%|██████████| 56/56 [04:51<00:00,  5.20s/it, loss=5.89]\n",
      "Evaluating: 100%|██████████| 15/15 [00:22<00:00,  1.49s/it]\n"
     ]
    },
    {
     "name": "stdout",
     "output_type": "stream",
     "text": [
      "Train loss: 5.8735, Validation loss: 5.9071\n",
      "Model saved to best_model.pt\n",
      "\n",
      "Epoch 4/5\n"
     ]
    },
    {
     "name": "stderr",
     "output_type": "stream",
     "text": [
      "Training: 100%|██████████| 56/56 [04:50<00:00,  5.19s/it, loss=5.76]\n",
      "Evaluating: 100%|██████████| 15/15 [00:21<00:00,  1.45s/it]\n"
     ]
    },
    {
     "name": "stdout",
     "output_type": "stream",
     "text": [
      "Train loss: 5.8414, Validation loss: 5.9040\n",
      "Model saved to best_model.pt\n",
      "\n",
      "Epoch 5/5\n"
     ]
    },
    {
     "name": "stderr",
     "output_type": "stream",
     "text": [
      "Training: 100%|██████████| 56/56 [04:50<00:00,  5.19s/it, loss=5.88]\n",
      "Evaluating: 100%|██████████| 15/15 [00:22<00:00,  1.47s/it]\n"
     ]
    },
    {
     "name": "stdout",
     "output_type": "stream",
     "text": [
      "Train loss: 5.8272, Validation loss: 5.9020\n",
      "Model saved to best_model.pt\n"
     ]
    }
   ],
   "source": [
    "# Training loop\n",
    "train_losses = []\n",
    "val_losses = []\n",
    "\n",
    "best_val_loss = float('inf')\n",
    "best_model_path = 'best_model.pt'\n",
    "\n",
    "print(\"Starting training...\")\n",
    "for epoch in range(num_epochs):\n",
    "    print(f\"\\nEpoch {epoch+1}/{num_epochs}\")\n",
    "    \n",
    "    # Train\n",
    "    train_loss = train_epoch(model, train_loader, optimizer, scheduler, device)\n",
    "    train_losses.append(train_loss)\n",
    "    \n",
    "    # Validate\n",
    "    val_loss = evaluate(model, val_loader, device)\n",
    "    val_losses.append(val_loss)\n",
    "    \n",
    "    print(f\"Train loss: {train_loss:.4f}, Validation loss: {val_loss:.4f}\")\n",
    "    \n",
    "    # Save best model\n",
    "    if val_loss < best_val_loss:\n",
    "        best_val_loss = val_loss\n",
    "        torch.save(model.state_dict(), best_model_path)\n",
    "        print(f\"Model saved to {best_model_path}\")"
   ]
  },
  {
   "cell_type": "code",
   "execution_count": 15,
   "id": "d7d24bc9",
   "metadata": {},
   "outputs": [
    {
     "data": {
      "image/png": "[encoded data removed]",
      "text/plain": [
       "<Figure size 1000x600 with 1 Axes>"
      ]
     },
     "metadata": {},
     "output_type": "display_data"
    }
   ],
   "source": [
    "# Plot training and validation loss\n",
    "plt.figure(figsize=(10, 6))\n",
    "plt.plot(train_losses, label='Training Loss')\n",
    "plt.plot(val_losses, label='Validation Loss')\n",
    "plt.xlabel('Epoch')\n",
    "plt.ylabel('Loss')\n",
    "plt.title('Training and Validation Loss')\n",
    "plt.legend()\n",
    "plt.grid(True)\n",
    "plt.show()"
   ]
  },
  {
   "cell_type": "markdown",
   "id": "1ee8edbb",
   "metadata": {},
   "source": [
    "## 6. Test Set Evaluation"
   ]
  },
  {
   "cell_type": "code",
   "execution_count": 16,
   "id": "21f85089",
   "metadata": {},
   "outputs": [
    {
     "name": "stderr",
     "output_type": "stream",
     "text": [
      "Evaluating: 100%|██████████| 4/4 [00:07<00:00,  1.90s/it]"
     ]
    },
    {
     "name": "stdout",
     "output_type": "stream",
     "text": [
      "Test Loss: 5.9173\n"
     ]
    },
    {
     "name": "stderr",
     "output_type": "stream",
     "text": [
      "\n"
     ]
    }
   ],
   "source": [
    "# Load best model for evaluation\n",
    "model.load_state_dict(torch.load(best_model_path))\n",
    "\n",
    "# Evaluate on test set\n",
    "test_loss = evaluate(model, test_loader, device)\n",
    "print(f\"Test Loss: {test_loss:.4f}\")"
   ]
  },
  {
   "cell_type": "markdown",
   "id": "114f8291",
   "metadata": {},
   "source": [
    "## 7. Generate Example Responses"
   ]
  },
  {
   "cell_type": "code",
   "execution_count": null,
   "id": "bfa21b27",
   "metadata": {},
   "outputs": [
    {
     "name": "stderr",
     "output_type": "stream",
     "text": [
      "Setting `pad_token_id` to `eos_token_id`:50256 for open-end generation.\n",
      "Setting `pad_token_id` to `eos_token_id`:50256 for open-end generation.\n"
     ]
    },
    {
     "name": "stdout",
     "output_type": "stream",
     "text": [
      "\n",
      "Example 1:\n",
      "Question: Are you tired?  You feel like you can --\n",
      "Actual answer: I'm everything, I'm banged up, I'm winded, I'm fatigued.  I've got all day tomorrow.  It's going to be tough to get some rest when you got a crazy two-year-old running around the house.  So hopefully I can take him to one of his grandma's house.\n",
      "Generated answer:   I, to, I just to, we that's the. and I a, to. I, I , . I have, I don't, you. I. We. the. . That's it. I to be, I, you're in. So. It's to the. We, I can. I do, but I'm going to make me. But I can't. I was, I. He. You know of the game, I've. I's. I just, I like, I'm not. I want to get to him, and I know. I think. I I'm, I'll be able. I\n"
     ]
    },
    {
     "name": "stderr",
     "output_type": "stream",
     "text": [
      "Setting `pad_token_id` to `eos_token_id`:50256 for open-end generation.\n"
     ]
    },
    {
     "name": "stdout",
     "output_type": "stream",
     "text": [
      "\n",
      "Example 2:\n",
      "Question: In terms of style play, do you have to be mindful of whether it's running into a guy, whether you're going up for a foul, hard foul?\n",
      "Actual answer: Well, you just play the game the right way  At this point, you try to do whatever it takes to win  You don't want to hurt nobody  No one, I think, in our league goes around trying to hurt people, but you don't take the aggressive nature out of the game. I think in the case of‑‑ ever since you were a kid, the ball on the floor, the first man to the floor usually gets the ball  There's no difference between what Delly did to Kyle Korver last game and 18 guys diving on the floor late in the game tonight  It was like six or seven guys diving on the floor for that loose ball  Delly was on the floor  J.J. was on the floor  Mike Scott was on the floor  Shump was on the floor  J.R. was on the floor  Just no one got hurt. There's no difference between me boxing out or Al Horford boxing me out and Delly boxing someone out  That is a fundamental box‑out  That's all it is  And we all know that  We don't never want to play with the integrity of the game and try to get people hurt  That's not what it's about because we all want\n",
      "Generated answer:  and, I., that I the  's the     ,  to be able . I know, I just you  .   I do . we have   a  -   and   of   in  ,   for   can   on   the it   to,  the , I don't   my.  I   he.  You,  I. We.  But I'm   that.  And,  .  \n",
      "\n",
      "Example 3:\n",
      "Question: LeBron, what was the breakdown defensively?\n",
      "Actual answer: A little bit of everywhere  I mean, they got some threes early on  Our pick‑and‑roll coverage had a lot of breakdowns, including myself; I broke down a few times defensively, and we allowed them to get into the paint  I mean, they shot 37 free throws to our 15, which is definitely something that we can't duplicate going into Game 2. But we had some breakdowns throughout the game, and that's what resulted in us losing this game  As a veteran ball club, we will watch the film and break it down and be better prepared in Game 2.\n",
      "Generated answer: , I just to the. We   and that we're a game to have a         I   I    he    I  't   it   in the  .   It   to the   to   the .  We   can  , I don't   do   we   a   they   and   of   you   it   as   I I  think   for   what   the  to   You   But   They  's   be   with  \n"
     ]
    }
   ],
   "source": [
    "# Generate a few examples from the test set\n",
    "num_examples = 3\n",
    "test_samples = [test_dataset[i] for i in range(num_examples)]\n",
    "\n",
    "model.eval()\n",
    "for i, sample in enumerate(test_samples):\n",
    "    # Get the input data\n",
    "    stats = sample['stats'].unsqueeze(0).to(device)\n",
    "    input_ids = sample['input_ids'].unsqueeze(0).to(device)\n",
    "    attention_mask = sample['attention_mask'].unsqueeze(0).to(device)\n",
    "    \n",
    "    # Get the question\n",
    "    question = tokenizer.decode(input_ids[0], skip_special_tokens=True)\n",
    "    \n",
    "    # Get the actual answer\n",
    "    actual_answer = tokenizer.decode(sample['labels'], skip_special_tokens=True)\n",
    "    \n",
    "    # Generate a response\n",
    "    generated_text = model.generate(\n",
    "        stats=stats,\n",
    "        prompt=question,\n",
    "        tokenizer=tokenizer,\n",
    "        max_length=150,\n",
    "        num_beams=5,\n",
    "        temperature=1.0,\n",
    "        top_k=50,\n",
    "        top_p=0.9\n",
    "    )\n",
    "    \n",
    "    print(f\"\\nExample {i+1}:\")\n",
    "    print(f\"Question: {question}\")\n",
    "    print(f\"Actual answer: {actual_answer}\")\n",
    "    print(f\"Generated answer: {generated_text}\")"
   ]
  },
  {
   "cell_type": "markdown",
   "id": "848a873c",
   "metadata": {},
   "source": [
    "## 8. Save Model and Metadata"
   ]
  },
  {
   "cell_type": "code",
   "execution_count": 18,
   "id": "5b0ddc4e",
   "metadata": {},
   "outputs": [
    {
     "name": "stdout",
     "output_type": "stream",
     "text": [
      "Model saved to output/final_model.pt\n",
      "Config saved to output/model_config.json\n"
     ]
    }
   ],
   "source": [
    "# Create a folder for the final model\n",
    "output_dir = 'output'\n",
    "os.makedirs(output_dir, exist_ok=True)\n",
    "\n",
    "# Save the model\n",
    "model_path = os.path.join(output_dir, 'final_model.pt')\n",
    "torch.save(model.state_dict(), model_path)\n",
    "\n",
    "# Save the config\n",
    "config = {\n",
    "    'stats_input_dim': stats_input_dim,\n",
    "    'stats_hidden_dims': stats_hidden_dims,\n",
    "    'stats_output_dim': stats_output_dim,\n",
    "    'gpt_model_name': gpt_model_name,\n",
    "    'fusion_method': fusion_method,\n",
    "    'tokenizer_name': tokenizer_name,\n",
    "    'max_length': max_length,\n",
    "    'training_date': datetime.now().strftime(\"%Y-%m-%d %H:%M:%S\"),\n",
    "    'final_train_loss': train_losses[-1],\n",
    "    'final_val_loss': val_losses[-1],\n",
    "    'test_loss': test_loss\n",
    "}\n",
    "\n",
    "with open(os.path.join(output_dir, 'model_config.json'), 'w') as f:\n",
    "    json.dump(config, f, indent=4)\n",
    "\n",
    "print(f\"Model saved to {model_path}\")\n",
    "print(f\"Config saved to {os.path.join(output_dir, 'model_config.json')}\")"
   ]
  },
  {
   "cell_type": "markdown",
   "id": "4c2f81f8",
   "metadata": {},
   "source": [
    "## 9. Inference Function for New Data"
   ]
  },
  {
   "cell_type": "code",
   "execution_count": 19,
   "id": "4469b71e",
   "metadata": {},
   "outputs": [],
   "source": [
    "def generate_response(model, stats, question, tokenizer):\n",
    "    \"\"\"\n",
    "    Generate a response for a new game stats and question pair.\n",
    "    \n",
    "    Args:\n",
    "        model: The trained GameStats2TextGenerator model\n",
    "        stats: A list or numpy array of game statistics (matching the input dimensions)\n",
    "        question: The question to ask about the game\n",
    "        tokenizer: The GPT2 tokenizer\n",
    "    \n",
    "    Returns:\n",
    "        str: The generated response\n",
    "    \"\"\"\n",
    "    # Convert stats to tensor if needed\n",
    "    if not isinstance(stats, torch.Tensor):\n",
    "        stats = torch.tensor(stats, dtype=torch.float32)\n",
    "    \n",
    "    # Add batch dimension if needed\n",
    "    if stats.dim() == 1:\n",
    "        stats = stats.unsqueeze(0)\n",
    "    \n",
    "    # Move to device\n",
    "    stats = stats.to(device)\n",
    "    \n",
    "    # Generate text\n",
    "    model.eval()\n",
    "    with torch.no_grad():\n",
    "        response = model.generate(\n",
    "            stats=stats,\n",
    "            prompt=question,\n",
    "            tokenizer=tokenizer,\n",
    "            max_length=150,\n",
    "            num_beams=5,\n",
    "            top_k=50,\n",
    "            top_p=0.9\n",
    "        )\n",
    "    \n",
    "    return response"
   ]
  },
  {
   "cell_type": "markdown",
   "id": "84c23bda",
   "metadata": {},
   "source": [
    "## 10. Conclusion\n",
    "\n",
    "This notebook demonstrated the full pipeline for training and evaluating a GameStats2Text model that fuses basketball game statistics with text generation. The model learns to generate player-specific responses to questions about game performance.\n",
    "\n",
    "Next steps could include:\n",
    "\n",
    "1. Fine-tuning hyperparameters for better performance\n",
    "2. Experimenting with different model architectures\n",
    "3. Adding style conditioning to better capture player-specific language\n",
    "4. Implementing evaluation metrics like BERTScore or human evaluation"
   ]
  },
  {
   "cell_type": "markdown",
   "id": "a098944a",
   "metadata": {},
   "source": []
  }
 ],
 "metadata": {
  "kernelspec": {
   "display_name": "nlp-proj",
   "language": "python",
   "name": "python3"
  },
  "language_info": {
   "codemirror_mode": {
    "name": "ipython",
    "version": 3
   },
   "file_extension": ".py",
   "mimetype": "text/x-python",
   "name": "python",
   "nbconvert_exporter": "python",
   "pygments_lexer": "ipython3",
   "version": "3.12.9"
  }
 },
 "nbformat": 4,
 "nbformat_minor": 5
}
