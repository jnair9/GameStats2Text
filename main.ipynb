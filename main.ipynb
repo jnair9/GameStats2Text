{
 "cells": [
  {
   "cell_type": "code",
   "execution_count": 19,
   "id": "5325c7ca",
   "metadata": {},
   "outputs": [],
   "source": [
    "import torch\n",
    "import pandas as pd\n",
    "from src.process.stats_encoder import StatsEncoder\n",
    "from transformers import GPT2Tokenizer\n",
    "import src.models.encoder as encoder_module \n",
    "import matplotlib.pyplot as plt"
   ]
  },
  {
   "cell_type": "code",
   "execution_count": 20,
   "id": "900f9bab",
   "metadata": {},
   "outputs": [
    {
     "data": {
      "text/html": [
       "<div>\n",
       "<style scoped>\n",
       "    .dataframe tbody tr th:only-of-type {\n",
       "        vertical-align: middle;\n",
       "    }\n",
       "\n",
       "    .dataframe tbody tr th {\n",
       "        vertical-align: top;\n",
       "    }\n",
       "\n",
       "    .dataframe thead th {\n",
       "        text-align: right;\n",
       "    }\n",
       "</style>\n",
       "<table border=\"1\" class=\"dataframe\">\n",
       "  <thead>\n",
       "    <tr style=\"text-align: right;\">\n",
       "      <th></th>\n",
       "      <th>date</th>\n",
       "      <th>MP</th>\n",
       "      <th>PTS</th>\n",
       "      <th>FG%</th>\n",
       "      <th>TRB</th>\n",
       "      <th>AST</th>\n",
       "      <th>STL</th>\n",
       "      <th>BLK</th>\n",
       "      <th>TOV</th>\n",
       "      <th>PF</th>\n",
       "      <th>Result</th>\n",
       "      <th>question</th>\n",
       "      <th>answer</th>\n",
       "    </tr>\n",
       "  </thead>\n",
       "  <tbody>\n",
       "    <tr>\n",
       "      <th>0</th>\n",
       "      <td>2007-05-21</td>\n",
       "      <td>45:22</td>\n",
       "      <td>10.0</td>\n",
       "      <td>0.333</td>\n",
       "      <td>10.0</td>\n",
       "      <td>9.0</td>\n",
       "      <td>4.0</td>\n",
       "      <td>1.0</td>\n",
       "      <td>2.0</td>\n",
       "      <td>1.0</td>\n",
       "      <td>0</td>\n",
       "      <td>I know you say that you're a football player, ...</td>\n",
       "      <td>(Laughing) It was definitely a physical game t...</td>\n",
       "    </tr>\n",
       "    <tr>\n",
       "      <th>1</th>\n",
       "      <td>2007-05-21</td>\n",
       "      <td>45:22</td>\n",
       "      <td>10.0</td>\n",
       "      <td>0.333</td>\n",
       "      <td>10.0</td>\n",
       "      <td>9.0</td>\n",
       "      <td>4.0</td>\n",
       "      <td>1.0</td>\n",
       "      <td>2.0</td>\n",
       "      <td>1.0</td>\n",
       "      <td>0</td>\n",
       "      <td>The last play there, Coach said that was kind ...</td>\n",
       "      <td>No, I go for the winning play.  If two guys co...</td>\n",
       "    </tr>\n",
       "    <tr>\n",
       "      <th>2</th>\n",
       "      <td>2007-05-21</td>\n",
       "      <td>45:22</td>\n",
       "      <td>10.0</td>\n",
       "      <td>0.333</td>\n",
       "      <td>10.0</td>\n",
       "      <td>9.0</td>\n",
       "      <td>4.0</td>\n",
       "      <td>1.0</td>\n",
       "      <td>2.0</td>\n",
       "      <td>1.0</td>\n",
       "      <td>0</td>\n",
       "      <td>As a franchise player, how do you justify only...</td>\n",
       "      <td>No, you've just got to take what's there.  It'...</td>\n",
       "    </tr>\n",
       "    <tr>\n",
       "      <th>3</th>\n",
       "      <td>2007-05-21</td>\n",
       "      <td>45:22</td>\n",
       "      <td>10.0</td>\n",
       "      <td>0.333</td>\n",
       "      <td>10.0</td>\n",
       "      <td>9.0</td>\n",
       "      <td>4.0</td>\n",
       "      <td>1.0</td>\n",
       "      <td>2.0</td>\n",
       "      <td>1.0</td>\n",
       "      <td>0</td>\n",
       "      <td>Coach said that a couple of adjustments need t...</td>\n",
       "      <td>We definitely played pretty well.  Both teams ...</td>\n",
       "    </tr>\n",
       "    <tr>\n",
       "      <th>4</th>\n",
       "      <td>2007-05-21</td>\n",
       "      <td>45:22</td>\n",
       "      <td>10.0</td>\n",
       "      <td>0.333</td>\n",
       "      <td>10.0</td>\n",
       "      <td>9.0</td>\n",
       "      <td>4.0</td>\n",
       "      <td>1.0</td>\n",
       "      <td>2.0</td>\n",
       "      <td>1.0</td>\n",
       "      <td>0</td>\n",
       "      <td>Third quarter, again, you guys fell behind 7-0...</td>\n",
       "      <td>Not sure.  It's just something that we've got ...</td>\n",
       "    </tr>\n",
       "  </tbody>\n",
       "</table>\n",
       "</div>"
      ],
      "text/plain": [
       "         date     MP   PTS    FG%   TRB  AST  STL  BLK  TOV   PF  Result  \\\n",
       "0  2007-05-21  45:22  10.0  0.333  10.0  9.0  4.0  1.0  2.0  1.0       0   \n",
       "1  2007-05-21  45:22  10.0  0.333  10.0  9.0  4.0  1.0  2.0  1.0       0   \n",
       "2  2007-05-21  45:22  10.0  0.333  10.0  9.0  4.0  1.0  2.0  1.0       0   \n",
       "3  2007-05-21  45:22  10.0  0.333  10.0  9.0  4.0  1.0  2.0  1.0       0   \n",
       "4  2007-05-21  45:22  10.0  0.333  10.0  9.0  4.0  1.0  2.0  1.0       0   \n",
       "\n",
       "                                            question  \\\n",
       "0  I know you say that you're a football player, ...   \n",
       "1  The last play there, Coach said that was kind ...   \n",
       "2  As a franchise player, how do you justify only...   \n",
       "3  Coach said that a couple of adjustments need t...   \n",
       "4  Third quarter, again, you guys fell behind 7-0...   \n",
       "\n",
       "                                              answer  \n",
       "0  (Laughing) It was definitely a physical game t...  \n",
       "1  No, I go for the winning play.  If two guys co...  \n",
       "2  No, you've just got to take what's there.  It'...  \n",
       "3  We definitely played pretty well.  Both teams ...  \n",
       "4  Not sure.  It's just something that we've got ...  "
      ]
     },
     "execution_count": 20,
     "metadata": {},
     "output_type": "execute_result"
    }
   ],
   "source": [
    "df = pd.read_csv(\"data/dataset.csv\")\n",
    "df.head()\n"
   ]
  },
  {
   "cell_type": "code",
   "execution_count": 21,
   "id": "0437d24f",
   "metadata": {},
   "outputs": [
    {
     "name": "stdout",
     "output_type": "stream",
     "text": [
      "torch.Size([1193, 9])\n"
     ]
    }
   ],
   "source": [
    "numeric_columns = ['PTS', 'AST', 'TRB', 'STL', 'BLK', 'FG%', 'TOV', 'PF', 'Result']\n",
    "stats_data = df[numeric_columns]\n",
    "\n",
    "stats_tensor = torch.tensor(stats_data.values, dtype=torch.float32)\n",
    "\n",
    "print(stats_tensor.shape)\n"
   ]
  },
  {
   "cell_type": "code",
   "execution_count": 22,
   "id": "e7155f18",
   "metadata": {},
   "outputs": [],
   "source": [
    "input_dim = stats_tensor.shape[1] \n",
    "encoder = StatsEncoder(input_dim=input_dim)\n"
   ]
  },
  {
   "cell_type": "code",
   "execution_count": 23,
   "id": "95de380f",
   "metadata": {},
   "outputs": [
    {
     "name": "stdout",
     "output_type": "stream",
     "text": [
      "Input shape: torch.Size([1193, 9])\n",
      "Output shape: torch.Size([1193, 32])\n",
      "Sample output embedding: tensor([-0.6002,  0.2090,  0.2591,  0.1426,  0.3316, -0.1448, -0.3543, -0.5936,\n",
      "         0.1252,  0.8496,  0.2295, -1.1668, -0.8630, -0.4952, -0.1707, -0.4865,\n",
      "        -0.1681,  0.3545,  0.9765,  0.0513, -0.3156, -0.0716, -0.0633,  0.1330,\n",
      "        -0.0977,  0.3412,  1.0113,  0.4359,  0.3955,  0.7559,  0.0026, -0.4129],\n",
      "       grad_fn=<SelectBackward0>)\n"
     ]
    }
   ],
   "source": [
    "output = encoder(stats_tensor)\n",
    "\n",
    "print(\"Input shape:\", stats_tensor.shape)\n",
    "print(\"Output shape:\", output.shape)\n",
    "print(\"Sample output embedding:\", output[0])\n"
   ]
  },
  {
   "cell_type": "code",
   "execution_count": 24,
   "id": "1ab9e3a1",
   "metadata": {},
   "outputs": [],
   "source": [
    "GameStats2TextModel = encoder_module.GameStats2TextModel\n",
    "\n",
    "df = pd.read_csv(\"data/dataset.csv\")\n",
    "batch = df.sample(4, random_state=0)\n",
    "\n",
    "stat_cols = ['PTS','AST','TRB','STL','BLK','FG%','TOV','PF', 'Result']\n",
    "stats = torch.tensor(batch[stat_cols].values, dtype=torch.float32)"
   ]
  },
  {
   "cell_type": "code",
   "execution_count": 25,
   "id": "9ceba948",
   "metadata": {},
   "outputs": [],
   "source": [
    "tokenizer = GPT2Tokenizer.from_pretrained('gpt2')\n",
    "\n",
    "tokenizer.pad_token = tokenizer.eos_token\n",
    "encoded = tokenizer(\n",
    "    batch['question'].tolist(),\n",
    "    return_tensors='pt',\n",
    "    padding=True,\n",
    "    truncation=True,\n",
    "    max_length=64\n",
    ")\n",
    "input_ids      = encoded.input_ids\n",
    "attention_mask = encoded.attention_mask"
   ]
  },
  {
   "cell_type": "code",
   "execution_count": 26,
   "id": "4240b538",
   "metadata": {},
   "outputs": [],
   "source": [
    "model = GameStats2TextModel(\n",
    "    stats_input_dim=stats.size(1),\n",
    "    stats_hidden_dims=[128,64],\n",
    "    stats_output_dim=32,\n",
    "    gpt_model_name='gpt2',\n",
    "    fusion_method='concat'\n",
    ")"
   ]
  },
  {
   "cell_type": "code",
   "execution_count": 27,
   "id": "7c10be11",
   "metadata": {},
   "outputs": [
    {
     "name": "stdout",
     "output_type": "stream",
     "text": [
      " stats shape: torch.Size([4, 9])\n",
      " input_ids shape: torch.Size([4, 49])\n",
      " output shape: torch.Size([4, 49, 768])\n"
     ]
    }
   ],
   "source": [
    "with torch.no_grad():\n",
    "    out = model(stats, input_ids, attention_mask)\n",
    "\n",
    "print(\" stats shape:\", stats.shape)             \n",
    "print(\" input_ids shape:\", input_ids.shape)     \n",
    "print(\" output shape:\", out.shape)"
   ]
  }
 ],
 "metadata": {
  "kernelspec": {
   "display_name": "game-stat-2-text-33nsFBE4-py3.12",
   "language": "python",
   "name": "python3"
  },
  "language_info": {
   "codemirror_mode": {
    "name": "ipython",
    "version": 3
   },
   "file_extension": ".py",
   "mimetype": "text/x-python",
   "name": "python",
   "nbconvert_exporter": "python",
   "pygments_lexer": "ipython3",
   "version": "3.12.7"
  }
 },
 "nbformat": 4,
 "nbformat_minor": 5
}
